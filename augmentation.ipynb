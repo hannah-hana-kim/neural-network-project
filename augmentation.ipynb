{
 "cells": [
  {
   "cell_type": "code",
   "execution_count": 1,
   "metadata": {},
   "outputs": [],
   "source": [
    "import tensorflow as tf\n",
    "import keras\n",
    "from tensorflow import keras\n",
    "import kagglehub\n",
    "\n",
    "\n",
    "from tensorflow.keras import utils\n",
    "from tensorflow.keras.layers import Dense, Dropout, Flatten, Conv2D, MaxPooling2D, BatchNormalization\n",
    "from tensorflow.keras.models import Sequential\n",
    "\n",
    "import os\n",
    "import cv2\n",
    "import numpy as np\n",
    "from imgaug import augmenters as iaa\n",
    "\n",
    "from keras.utils import to_categorical\n",
    "from tensorflow.keras.utils import to_categorical\n",
    "from tensorflow.keras.callbacks import EarlyStopping\n",
    "import matplotlib.pyplot as plt\n",
    "\n",
    "from sklearn.metrics import classification_report, confusion_matrix\n",
    "from sklearn import metrics"
   ]
  },
  {
   "cell_type": "code",
   "execution_count": 2,
   "metadata": {},
   "outputs": [
    {
     "name": "stdout",
     "output_type": "stream",
     "text": [
      "Obtaining and augmenting images of R ...\n",
      "Obtaining and augmenting images of U ...\n",
      "Obtaining and augmenting images of I ...\n",
      "Obtaining and augmenting images of N ...\n",
      "Obtaining and augmenting images of G ...\n",
      "Obtaining and augmenting images of Z ...\n",
      "Obtaining and augmenting images of T ...\n",
      "Obtaining and augmenting images of S ...\n",
      "Obtaining and augmenting images of A ...\n",
      "Obtaining and augmenting images of F ...\n",
      "Obtaining and augmenting images of O ...\n",
      "Obtaining and augmenting images of H ...\n",
      "Obtaining and augmenting images of del ...\n",
      "Obtaining and augmenting images of nothing ...\n",
      "Obtaining and augmenting images of space ...\n",
      "Obtaining and augmenting images of M ...\n",
      "Obtaining and augmenting images of J ...\n",
      "Obtaining and augmenting images of C ...\n",
      "Obtaining and augmenting images of D ...\n",
      "Obtaining and augmenting images of V ...\n",
      "Obtaining and augmenting images of Q ...\n",
      "Obtaining and augmenting images of X ...\n",
      "Obtaining and augmenting images of E ...\n",
      "Obtaining and augmenting images of B ...\n",
      "Obtaining and augmenting images of K ...\n",
      "Obtaining and augmenting images of L ...\n",
      "Obtaining and augmenting images of Y ...\n",
      "Obtaining and augmenting images of P ...\n",
      "Obtaining and augmenting images of W ...\n",
      "Dataset Size (including originals and augmentations): 261000\n"
     ]
    }
   ],
   "source": [
    "path = kagglehub.dataset_download(\"grassknoted/asl-alphabet\")\n",
    "train_images = os.path.join(path, 'asl_alphabet_train', 'asl_alphabet_train')\n",
    "\n",
    "# Augmentation Sequence\n",
    "augmentation = iaa.Sequential([\n",
    "    iaa.Affine(rotate=(-10, 10)),  # Rotate images within [-10, 10] degrees\n",
    "    iaa.AddToBrightness((-2, 2)),  # Adjust brightness\n",
    "    iaa.AdditiveGaussianNoise(scale=(0, 0.001 * 255)),  # Add Gaussian noise\n",
    "    iaa.Crop(percent=(0, 0.1))  # Crop by up to 10% from each side\n",
    "])\n",
    "# Function to convert BGR to RGB for display\n",
    "def convert_bgr_to_rgb(image):\n",
    "    return cv2.cvtColor(image, cv2.COLOR_BGR2RGB)\n",
    "\n",
    "# Data loading and augmentation\n",
    "def get_data_with_augmentation(data_dir):\n",
    "    images = []\n",
    "    labels = []\n",
    "\n",
    "    dir_list = os.listdir(data_dir)\n",
    "    for i, label in enumerate(dir_list):\n",
    "        print(\"Obtaining and augmenting images of\", label, \"...\")\n",
    "        for image in os.listdir(os.path.join(data_dir, label)):\n",
    "            img_path = os.path.join(data_dir, label, image)\n",
    "            img = cv2.imread(img_path)\n",
    "            img = cv2.resize(img, (32, 32))\n",
    "            \n",
    "            # Append the original image\n",
    "            images.append(img)\n",
    "            labels.append(i)\n",
    "\n",
    "            # Apply augmentations\n",
    "            img_augmented = augmentation(images=[img] * 2)  \n",
    "            images.extend(img_augmented)\n",
    "            labels.extend([i] * len(img_augmented))\n",
    "\n",
    "    return np.array(images), np.array(labels)\n",
    "\n",
    "# Loading data with augmentation\n",
    "X, y = get_data_with_augmentation(train_images)\n",
    "\n",
    "print(\"Dataset Size (including originals and augmentations):\", len(X))\n"
   ]
  },
  {
   "cell_type": "code",
   "execution_count": 3,
   "metadata": {},
   "outputs": [
    {
     "name": "stdout",
     "output_type": "stream",
     "text": [
      "Training data shape: (182700, 32, 32, 3), Test data shape: (78300, 32, 32, 3)\n",
      "Training labels shape: (182700,), Test labels shape: (78300,)\n"
     ]
    },
    {
     "data": {
      "text/plain": [
       "array([[1., 0., 0., ..., 0., 0., 0.],\n",
       "       [0., 0., 0., ..., 1., 0., 0.],\n",
       "       [0., 0., 0., ..., 0., 0., 0.],\n",
       "       ...,\n",
       "       [0., 0., 0., ..., 0., 0., 0.],\n",
       "       [0., 0., 0., ..., 0., 0., 0.],\n",
       "       [0., 0., 0., ..., 0., 0., 0.]])"
      ]
     },
     "execution_count": 3,
     "metadata": {},
     "output_type": "execute_result"
    }
   ],
   "source": [
    "# Split into Training and Test\n",
    "import sklearn\n",
    "from sklearn.model_selection import train_test_split\n",
    "\n",
    "labels = [\n",
    "    'R', 'U', 'I', 'N', 'G', 'Z', 'T', 'S', 'A', 'F', 'O', 'H', \n",
    "    'del', 'nothing', 'space', 'M', 'J', 'C', 'D', 'V', 'Q', 'X', \n",
    "    'E', 'B', 'K', 'L', 'Y', 'P', 'W'\n",
    "]\n",
    "\n",
    "X = np.array(X)\n",
    "y = np.array(y)\n",
    "\n",
    "# Normalizing\n",
    "X_normalized = X.astype('float32') / 255.0\n",
    "\n",
    "# Training and Test\n",
    "X_train, X_test, y_train, y_test = train_test_split(X_normalized, y, test_size=0.3, random_state=42)\n",
    "\n",
    "# Shapes\n",
    "print(f\"Training data shape: {X_train.shape}, Test data shape: {X_test.shape}\")\n",
    "print(f\"Training labels shape: {y_train.shape}, Test labels shape: {y_test.shape}\")\n",
    "\n",
    "\n",
    "# Encoding\n",
    "y_train_encoded = to_categorical(y_train, num_classes=len(labels))\n",
    "y_test_encoded = to_categorical(y_test, num_classes=len(labels))\n",
    "\n",
    "y_train_encoded\n",
    "y_test_encoded\n"
   ]
  },
  {
   "cell_type": "code",
   "execution_count": 4,
   "metadata": {},
   "outputs": [],
   "source": [
    "from tensorflow.keras.models import Sequential\n",
    "from tensorflow.keras.optimizers import Adam"
   ]
  },
  {
   "cell_type": "code",
   "execution_count": 5,
   "metadata": {},
   "outputs": [
    {
     "name": "stderr",
     "output_type": "stream",
     "text": [
      "/opt/anaconda3/lib/python3.11/site-packages/keras/src/layers/convolutional/base_conv.py:107: UserWarning: Do not pass an `input_shape`/`input_dim` argument to a layer. When using Sequential models, prefer using an `Input(shape)` object as the first layer in the model instead.\n",
      "  super().__init__(activity_regularizer=activity_regularizer, **kwargs)\n"
     ]
    },
    {
     "name": "stdout",
     "output_type": "stream",
     "text": [
      "Epoch 1/10\n",
      "\u001b[1m1999/1999\u001b[0m \u001b[32m━━━━━━━━━━━━━━━━━━━━\u001b[0m\u001b[37m\u001b[0m \u001b[1m81s\u001b[0m 40ms/step - accuracy: 0.4582 - loss: 13.2786 - val_accuracy: 0.6455 - val_loss: 7.5040\n",
      "Epoch 2/10\n",
      "\u001b[1m1999/1999\u001b[0m \u001b[32m━━━━━━━━━━━━━━━━━━━━\u001b[0m\u001b[37m\u001b[0m \u001b[1m74s\u001b[0m 37ms/step - accuracy: 0.8753 - loss: 5.6719 - val_accuracy: 0.9221 - val_loss: 3.1768\n",
      "Epoch 3/10\n",
      "\u001b[1m1999/1999\u001b[0m \u001b[32m━━━━━━━━━━━━━━━━━━━━\u001b[0m\u001b[37m\u001b[0m \u001b[1m75s\u001b[0m 38ms/step - accuracy: 0.9433 - loss: 2.6683 - val_accuracy: 0.9602 - val_loss: 1.5526\n",
      "Epoch 4/10\n",
      "\u001b[1m1999/1999\u001b[0m \u001b[32m━━━━━━━━━━━━━━━━━━━━\u001b[0m\u001b[37m\u001b[0m \u001b[1m80s\u001b[0m 40ms/step - accuracy: 0.9666 - loss: 1.3251 - val_accuracy: 0.9556 - val_loss: 0.8636\n",
      "Epoch 5/10\n",
      "\u001b[1m1999/1999\u001b[0m \u001b[32m━━━━━━━━━━━━━━━━━━━━\u001b[0m\u001b[37m\u001b[0m \u001b[1m82s\u001b[0m 41ms/step - accuracy: 0.9752 - loss: 0.7137 - val_accuracy: 0.9488 - val_loss: 0.5604\n",
      "Epoch 6/10\n",
      "\u001b[1m1999/1999\u001b[0m \u001b[32m━━━━━━━━━━━━━━━━━━━━\u001b[0m\u001b[37m\u001b[0m \u001b[1m79s\u001b[0m 39ms/step - accuracy: 0.9818 - loss: 0.4262 - val_accuracy: 0.9427 - val_loss: 0.4067\n",
      "Epoch 7/10\n",
      "\u001b[1m1999/1999\u001b[0m \u001b[32m━━━━━━━━━━━━━━━━━━━━\u001b[0m\u001b[37m\u001b[0m \u001b[1m70s\u001b[0m 35ms/step - accuracy: 0.9849 - loss: 0.2872 - val_accuracy: 0.9912 - val_loss: 0.2073\n",
      "Epoch 8/10\n",
      "\u001b[1m1999/1999\u001b[0m \u001b[32m━━━━━━━━━━━━━━━━━━━━\u001b[0m\u001b[37m\u001b[0m \u001b[1m72s\u001b[0m 36ms/step - accuracy: 0.9878 - loss: 0.2147 - val_accuracy: 0.9788 - val_loss: 0.2185\n",
      "Epoch 9/10\n",
      "\u001b[1m1999/1999\u001b[0m \u001b[32m━━━━━━━━━━━━━━━━━━━━\u001b[0m\u001b[37m\u001b[0m \u001b[1m72s\u001b[0m 36ms/step - accuracy: 0.9896 - loss: 0.1763 - val_accuracy: 0.9900 - val_loss: 0.1503\n",
      "Epoch 10/10\n",
      "\u001b[1m1999/1999\u001b[0m \u001b[32m━━━━━━━━━━━━━━━━━━━━\u001b[0m\u001b[37m\u001b[0m \u001b[1m82s\u001b[0m 41ms/step - accuracy: 0.9904 - loss: 0.1534 - val_accuracy: 0.9831 - val_loss: 0.1671\n"
     ]
    }
   ],
   "source": [
    "classes = 29\n",
    "batch = 64\n",
    "epochs = 10\n",
    "learning_rate = 0.001\n",
    "\n",
    "model = Sequential()\n",
    "\n",
    "model.add(Conv2D(32, (3, 3), padding='same', input_shape=(32, 32, 3), activation='relu'))\n",
    "model.add(MaxPooling2D(pool_size=(2, 2)))\n",
    "model.add(BatchNormalization())\n",
    "\n",
    "model.add(Conv2D(64, (3, 3), padding='same', input_shape=(32, 32, 3), activation='relu'))\n",
    "model.add(MaxPooling2D(pool_size=(2, 2)))\n",
    "model.add(BatchNormalization())\n",
    "model.add(Dropout(0.2))\n",
    "\n",
    "model.add(Conv2D(128, (3, 3), padding='same', input_shape=(32, 32, 3), activation='relu'))\n",
    "model.add(MaxPooling2D(pool_size=(2, 2)))\n",
    "model.add(BatchNormalization())\n",
    "from tensorflow.keras.regularizers import l2\n",
    "\n",
    "model.add(Flatten())\n",
    "model.add(Dropout(0.2))\n",
    "model.add(Dense(1024, activation='relu',kernel_regularizer=l2(0.01)))\n",
    "model.add(Dense(classes, activation='softmax'))\n",
    "\n",
    "\n",
    "early_stopping = EarlyStopping(\n",
    "    monitor='val_loss',      \n",
    "    patience=2,              \n",
    "    restore_best_weights=True \n",
    ")\n",
    "from tensorflow.keras.optimizers import SGD\n",
    "\n",
    "sgd = SGD(learning_rate=learning_rate, momentum=0.9, nesterov=True)\n",
    "\n",
    "# Compile the model with SGD\n",
    "model.compile(optimizer=sgd, loss='categorical_crossentropy', metrics=['accuracy'])\n",
    "\n",
    "# Train the model with SGD\n",
    "history = model.fit(\n",
    "    X_train, \n",
    "    y_train_encoded, \n",
    "    batch_size=batch, \n",
    "    epochs=epochs, \n",
    "    validation_split=0.3, \n",
    "    shuffle=True, \n",
    "    verbose=1, \n",
    "    callbacks=[early_stopping]\n",
    ")\n"
   ]
  },
  {
   "cell_type": "code",
   "execution_count": 6,
   "metadata": {},
   "outputs": [
    {
     "name": "stdout",
     "output_type": "stream",
     "text": [
      "\u001b[1m2447/2447\u001b[0m \u001b[32m━━━━━━━━━━━━━━━━━━━━\u001b[0m\u001b[37m\u001b[0m \u001b[1m15s\u001b[0m 6ms/step - accuracy: 0.9892 - loss: 0.1523\n",
      "Test Loss: 0.1513, Test Accuracy: 0.9897\n"
     ]
    }
   ],
   "source": [
    "test_loss, test_accuracy = model.evaluate(X_test, y_test_encoded, verbose=1)\n",
    "print(f\"Test Loss: {test_loss:.4f}, Test Accuracy: {test_accuracy:.4f}\")\n"
   ]
  },
  {
   "cell_type": "code",
   "execution_count": 7,
   "metadata": {},
   "outputs": [
    {
     "data": {
      "image/png": "[encoded data removed]",
      "text/plain": [
       "<Figure size 640x480 with 1 Axes>"
      ]
     },
     "metadata": {},
     "output_type": "display_data"
    },
    {
     "data": {
      "image/png": "[encoded data removed]",
      "text/plain": [
       "<Figure size 640x480 with 1 Axes>"
      ]
     },
     "metadata": {},
     "output_type": "display_data"
    }
   ],
   "source": [
    "# Training and validation accuracy\n",
    "plt.plot(history.history['accuracy'], label='Train Accuracy', color='#ADD8E6')  # Training color\n",
    "plt.plot(history.history['val_accuracy'], label='Validation Accuracy', color='#041E42')  # Validation color\n",
    "plt.legend()\n",
    "plt.title('Training vs Validation Accuracy')\n",
    "plt.show()\n",
    "\n",
    "# Training and validation loss\n",
    "plt.plot(history.history['loss'], label='Train Loss', color='#ADD8E6')  # Training color\n",
    "plt.plot(history.history['val_loss'], label='Validation Loss', color='#041E42')  # Validation color\n",
    "plt.legend()\n",
    "plt.title('Training vs Validation Loss')\n",
    "plt.show()\n"
   ]
  },
  {
   "cell_type": "code",
   "execution_count": 8,
   "metadata": {},
   "outputs": [
    {
     "name": "stdout",
     "output_type": "stream",
     "text": [
      "\u001b[1m2447/2447\u001b[0m \u001b[32m━━━━━━━━━━━━━━━━━━━━\u001b[0m\u001b[37m\u001b[0m \u001b[1m14s\u001b[0m 6ms/step\n",
      "              precision    recall  f1-score   support\n",
      "\n",
      "           0       0.98      0.96      0.97      2642\n",
      "           1       0.96      0.97      0.96      2682\n",
      "           2       1.00      0.99      1.00      2622\n",
      "           3       0.98      1.00      0.99      2806\n",
      "           4       0.99      1.00      0.99      2757\n",
      "           5       1.00      1.00      1.00      2643\n",
      "           6       0.99      0.99      0.99      2667\n",
      "           7       0.99      0.99      0.99      2755\n",
      "           8       1.00      0.99      0.99      2733\n",
      "           9       1.00      1.00      1.00      2569\n",
      "          10       1.00      1.00      1.00      2660\n",
      "          11       1.00      0.99      0.99      2702\n",
      "          12       1.00      0.99      1.00      2704\n",
      "          13       1.00      1.00      1.00      2736\n",
      "          14       0.98      1.00      0.99      2619\n",
      "          15       1.00      0.98      0.99      2747\n",
      "          16       1.00      1.00      1.00      2642\n",
      "          17       1.00      1.00      1.00      2704\n",
      "          18       1.00      1.00      1.00      2745\n",
      "          19       0.95      0.97      0.96      2718\n",
      "          20       1.00      1.00      1.00      2742\n",
      "          21       0.94      1.00      0.97      2723\n",
      "          22       0.99      1.00      0.99      2709\n",
      "          23       1.00      1.00      1.00      2757\n",
      "          24       1.00      1.00      1.00      2680\n",
      "          25       1.00      1.00      1.00      2710\n",
      "          26       1.00      0.99      0.99      2707\n",
      "          27       1.00      1.00      1.00      2658\n",
      "          28       1.00      0.93      0.96      2761\n",
      "\n",
      "    accuracy                           0.99     78300\n",
      "   macro avg       0.99      0.99      0.99     78300\n",
      "weighted avg       0.99      0.99      0.99     78300\n",
      "\n",
      "[[2545   73    0    0    0    0    0    0    0    0    0    0    0    0\n",
      "     5    0    0    0    0    0    0   18    0    0    1    0    0    0\n",
      "     0]\n",
      " [  26 2597    0    0    0    0    0    0    0    0    0    0    0    0\n",
      "     3    0    0    0    0    4    0   52    0    0    0    0    0    0\n",
      "     0]\n",
      " [   2    0 2606    0    0    0    0    0    0    0    0    0    0    0\n",
      "     0    0   12    0    0    0    0    0    2    0    0    0    0    0\n",
      "     0]\n",
      " [   0    0    0 2797    0    0    0    0    0    0    0    0    1    3\n",
      "     0    4    0    0    0    0    0    0    1    0    0    0    0    0\n",
      "     0]\n",
      " [   0    0    0    0 2754    0    0    0    0    0    0    0    0    1\n",
      "     0    0    0    0    0    0    0    0    0    0    1    0    0    1\n",
      "     0]\n",
      " [   0    0    0    0    0 2632    2    0    0    0    0    0    0    0\n",
      "     0    0    0    0    0    0    1    8    0    0    0    0    0    0\n",
      "     0]\n",
      " [   0    0    0    0    0    0 2638    6    0    0    0    0    0    0\n",
      "     0    1    0    0    0    0    0   21    0    0    0    0    1    0\n",
      "     0]\n",
      " [   0    0    0    0    0    0    0 2741    0    0    0    0    0    0\n",
      "     2    0    0    0    0    0    0   12    0    0    0    0    0    0\n",
      "     0]\n",
      " [   0    1    0    1    0    0    0    7 2702    0    6    0    0    0\n",
      "     0    2    0    0    0    0    0    3   10    1    0    0    0    0\n",
      "     0]\n",
      " [   0    0    0    0    1    0    0    2    0 2561    1    0    0    0\n",
      "     0    0    0    1    0    0    0    1    1    0    1    0    0    0\n",
      "     0]\n",
      " [   0    1    0    1    0    0    0    0    0    0 2654    0    0    0\n",
      "     3    0    0    0    0    0    0    1    0    0    0    0    0    0\n",
      "     0]\n",
      " [   0    0    0    0   31    0    0    0    0    0    0 2662    0    8\n",
      "     0    0    0    0    0    0    0    0    0    0    0    0    0    1\n",
      "     0]\n",
      " [   1    0    0    0    0    9    0    0    0    0    0    0 2690    0\n",
      "     0    4    0    0    0    0    0    0    0    0    0    0    0    0\n",
      "     0]\n",
      " [   0    0    0    0    0    0    0    0    0    0    0    0    0 2736\n",
      "     0    0    0    0    0    0    0    0    0    0    0    0    0    0\n",
      "     0]\n",
      " [   0    0    0    0    0    0    0    0    0    0    0    0    0    0\n",
      "  2619    0    0    0    0    0    0    0    0    0    0    0    0    0\n",
      "     0]\n",
      " [   0    0    0   61    0    0    0    2    0    0    0    0    1    0\n",
      "     0 2682    0    0    0    0    0    1    0    0    0    0    0    0\n",
      "     0]\n",
      " [   0    0    0    0    0    0    0    1    0    0    0    0    0    0\n",
      "     0    0 2639    0    0    0    0    2    0    0    0    0    0    0\n",
      "     0]\n",
      " [   0    0    0    0    1    0    0    0    0    0    0    0    0    0\n",
      "     0    0    0 2703    0    0    0    0    0    0    0    0    0    0\n",
      "     0]\n",
      " [   1    0    4    0    0    0    0    0    0    0    2    0    0    0\n",
      "     0    0    0    3 2733    0    0    0    0    1    0    1    0    0\n",
      "     0]\n",
      " [   7   22    0    0    1    0    0    0    0    0    0    0    0    0\n",
      "    12    0    0    0    0 2624    0   44    0    0    4    0    0    0\n",
      "     4]\n",
      " [   0    0    0    0    0    0    0    0    0    0    0    0    1    0\n",
      "     0    0    0    0    0    0 2740    0    0    0    0    0    0    1\n",
      "     0]\n",
      " [   0    0    0    0    0    0    0    0    0    0    0    0    0    0\n",
      "     0    0    0    0    0    0    0 2723    0    0    0    0    0    0\n",
      "     0]\n",
      " [   0    0    0    0    2    0    0    7    0    0    0    0    0    0\n",
      "     0    0    0    0    0    0    0    2 2697    1    0    0    0    0\n",
      "     0]\n",
      " [   2    5    0    0    0    0    0    0    0    0    0    0    0    0\n",
      "     0    0    0    1    0    0    0    0    5 2744    0    0    0    0\n",
      "     0]\n",
      " [   5    0    0    0    0    0    0    0    0    0    0    0    0    0\n",
      "     0    0    0    0    0    0    0    0    0    1 2673    0    0    1\n",
      "     0]\n",
      " [   0    0    0    1    0    0    5    2    0    0    0    0    0    0\n",
      "     0    2    0    0    0    0    0    1    0    0    0 2699    0    0\n",
      "     0]\n",
      " [   0    0    0    0    2    1    6   11    0    1    0    0    0    0\n",
      "    12    0    0    0    0    0    0    2    0    0    0    0 2672    0\n",
      "     0]\n",
      " [   0    0    0    0    3    0    0    0    0    0    0    0    0    0\n",
      "     0    0    0    0    0    0    1    0    0    0    0    0    0 2654\n",
      "     0]\n",
      " [   1   12    0    0    0    1    2    1    0    0    2    0    0    0\n",
      "    16    0    0    0    2  128    0   20    1    0    1    0    0    0\n",
      "  2574]]\n"
     ]
    }
   ],
   "source": [
    "# Predict classes\n",
    "y_pred = model.predict(X_test)\n",
    "y_pred_classes = np.argmax(y_pred, axis=1)\n",
    "y_test_classes = np.argmax(y_test_encoded, axis=1)\n",
    "\n",
    "# Classification report\n",
    "print(classification_report(y_test_classes, y_pred_classes))\n",
    "\n",
    "# Confusion matrix\n",
    "conf_matrix = confusion_matrix(y_test_classes, y_pred_classes)\n",
    "print(conf_matrix)\n"
   ]
  },
  {
   "cell_type": "code",
   "execution_count": 9,
   "metadata": {},
   "outputs": [
    {
     "name": "stderr",
     "output_type": "stream",
     "text": [
      "WARNING:absl:You are saving your model as an HDF5 file via `model.save()` or `keras.saving.save_model(model)`. This file format is considered legacy. We recommend using instead the native Keras format, e.g. `model.save('my_model.keras')` or `keras.saving.save_model(model, 'my_model.keras')`. \n"
     ]
    }
   ],
   "source": [
    "model.save('./models/augmented_model.h5')"
   ]
  },
  {
   "cell_type": "code",
   "execution_count": 10,
   "metadata": {},
   "outputs": [
    {
     "name": "stdout",
     "output_type": "stream",
     "text": [
      "\u001b[1m1/1\u001b[0m \u001b[32m━━━━━━━━━━━━━━━━━━━━\u001b[0m\u001b[37m\u001b[0m \u001b[1m0s\u001b[0m 14ms/step\n",
      "The predicted class for the image is: X\n"
     ]
    }
   ],
   "source": [
    "import cv2\n",
    "import numpy as np\n",
    "from tensorflow.keras.preprocessing import image\n",
    "from tensorflow.keras.models import load_model\n",
    "\n",
    "img_path = '/Users/hannahkim/Downloads/archive 2/Test_Alphabet/Blank/0c66b288-afcf-4a0e-b508-019d481b0415.rgb_0000.png'\n",
    "img = cv2.imread(img_path)\n",
    "img_resized = cv2.resize(img, (32, 32))\n",
    "img_rgb = convert_bgr_to_rgb(img_resized)\n",
    "img_normalized = img_rgb.astype('float32') / 255.0\n",
    "img_batch = np.expand_dims(img_normalized, axis=0)\n",
    "y_pred = model.predict(img_batch)\n",
    "\n",
    "y_pred_class = np.argmax(y_pred, axis=1)[0]\n",
    "\n",
    "labels = [\n",
    "    'R', 'U', 'I', 'N', 'G', 'Z', 'T', 'S', 'A', 'F', 'O', 'H', \n",
    "    'del', 'nothing', 'space', 'M', 'J', 'C', 'D', 'V', 'Q', 'X', \n",
    "    'E', 'B', 'K', 'L', 'Y', 'P', 'W'\n",
    "]\n",
    "\n",
    "predicted_label = labels[y_pred_class]\n",
    "\n",
    "print(f\"The predicted class for the image is: {predicted_label}\")\n"
   ]
  }
 ],
 "metadata": {
  "kernelspec": {
   "display_name": "base",
   "language": "python",
   "name": "python3"
  },
  "language_info": {
   "codemirror_mode": {
    "name": "ipython",
    "version": 3
   },
   "file_extension": ".py",
   "mimetype": "text/x-python",
   "name": "python",
   "nbconvert_exporter": "python",
   "pygments_lexer": "ipython3",
   "version": "3.11.7"
  }
 },
 "nbformat": 4,
 "nbformat_minor": 2
}
