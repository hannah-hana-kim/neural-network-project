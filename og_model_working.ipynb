{
 "cells": [
  {
   "cell_type": "code",
   "execution_count": 1,
   "metadata": {},
   "outputs": [],
   "source": [
    "import tensorflow as tf\n",
    "import keras\n",
    "from tensorflow import keras\n",
    "import kagglehub\n",
    "\n",
    "\n",
    "from tensorflow.keras import utils\n",
    "from tensorflow.keras.layers import Dense, Dropout, Flatten, Conv2D, MaxPooling2D, BatchNormalization\n",
    "from tensorflow.keras.models import Sequential\n",
    "\n",
    "import os\n",
    "import cv2\n",
    "import numpy as np\n",
    "from imgaug import augmenters as iaa\n",
    "\n",
    "from keras.utils import to_categorical\n",
    "from tensorflow.keras.utils import to_categorical\n",
    "from tensorflow.keras.callbacks import EarlyStopping\n",
    "import matplotlib.pyplot as plt\n",
    "\n",
    "from sklearn.metrics import classification_report, confusion_matrix\n",
    "from sklearn import metrics"
   ]
  },
  {
   "cell_type": "code",
   "execution_count": 2,
   "metadata": {},
   "outputs": [
    {
     "name": "stdout",
     "output_type": "stream",
     "text": [
      "Obtaining and augmenting images of R ...\n",
      "Obtaining and augmenting images of U ...\n",
      "Obtaining and augmenting images of I ...\n",
      "Obtaining and augmenting images of N ...\n",
      "Obtaining and augmenting images of G ...\n",
      "Obtaining and augmenting images of Z ...\n",
      "Obtaining and augmenting images of T ...\n",
      "Obtaining and augmenting images of S ...\n",
      "Obtaining and augmenting images of A ...\n",
      "Obtaining and augmenting images of F ...\n",
      "Obtaining and augmenting images of O ...\n",
      "Obtaining and augmenting images of H ...\n",
      "Obtaining and augmenting images of del ...\n",
      "Obtaining and augmenting images of nothing ...\n",
      "Obtaining and augmenting images of space ...\n",
      "Obtaining and augmenting images of M ...\n",
      "Obtaining and augmenting images of J ...\n",
      "Obtaining and augmenting images of C ...\n",
      "Obtaining and augmenting images of D ...\n",
      "Obtaining and augmenting images of V ...\n",
      "Obtaining and augmenting images of Q ...\n",
      "Obtaining and augmenting images of X ...\n",
      "Obtaining and augmenting images of E ...\n",
      "Obtaining and augmenting images of B ...\n",
      "Obtaining and augmenting images of K ...\n",
      "Obtaining and augmenting images of L ...\n",
      "Obtaining and augmenting images of Y ...\n",
      "Obtaining and augmenting images of P ...\n",
      "Obtaining and augmenting images of W ...\n",
      "Dataset Size (including originals and augmentations): 261000\n"
     ]
    }
   ],
   "source": [
    "path = kagglehub.dataset_download(\"grassknoted/asl-alphabet\")\n",
    "train_images = os.path.join(path, 'asl_alphabet_train', 'asl_alphabet_train')\n",
    "\n",
    "# Augmentation Sequence\n",
    "augmentation = iaa.Sequential([\n",
    "    iaa.Affine(rotate=(-10, 10)),  # Rotate images within [-10, 10] degrees\n",
    "    iaa.AddToBrightness((-2, 2)),  # Adjust brightness\n",
    "    iaa.AdditiveGaussianNoise(scale=(0, 0.001 * 255)),  # Add Gaussian noise\n",
    "    iaa.Crop(percent=(0, 0.1))  # Crop by up to 10% from each side\n",
    "])\n",
    "# Function to convert BGR to RGB for display\n",
    "def convert_bgr_to_rgb(image):\n",
    "    return cv2.cvtColor(image, cv2.COLOR_BGR2RGB)\n",
    "\n",
    "# Data loading and augmentation\n",
    "def get_data_with_augmentation(data_dir):\n",
    "    images = []\n",
    "    labels = []\n",
    "\n",
    "    dir_list = os.listdir(data_dir)\n",
    "    for i, label in enumerate(dir_list):\n",
    "        print(\"Obtaining and augmenting images of\", label, \"...\")\n",
    "        for image in os.listdir(os.path.join(data_dir, label)):\n",
    "            img_path = os.path.join(data_dir, label, image)\n",
    "            img = cv2.imread(img_path)\n",
    "            img = cv2.resize(img, (32, 32))\n",
    "            \n",
    "            # Append the original image\n",
    "            images.append(img)\n",
    "            labels.append(i)\n",
    "\n",
    "            # Apply augmentations\n",
    "            img_augmented = augmentation(images=[img] * 2)  \n",
    "            images.extend(img_augmented)\n",
    "            labels.extend([i] * len(img_augmented))\n",
    "\n",
    "    return np.array(images), np.array(labels)\n",
    "\n",
    "# Loading data with augmentation\n",
    "X, y = get_data_with_augmentation(train_images)\n",
    "\n",
    "print(\"Dataset Size (including originals and augmentations):\", len(X))\n"
   ]
  },
  {
   "cell_type": "code",
   "execution_count": 3,
   "metadata": {},
   "outputs": [
    {
     "name": "stdout",
     "output_type": "stream",
     "text": [
      "Training data shape: (182700, 32, 32, 3), Test data shape: (78300, 32, 32, 3)\n",
      "Training labels shape: (182700,), Test labels shape: (78300,)\n"
     ]
    },
    {
     "data": {
      "text/plain": [
       "array([[1., 0., 0., ..., 0., 0., 0.],\n",
       "       [0., 0., 0., ..., 1., 0., 0.],\n",
       "       [0., 0., 0., ..., 0., 0., 0.],\n",
       "       ...,\n",
       "       [0., 0., 0., ..., 0., 0., 0.],\n",
       "       [0., 0., 0., ..., 0., 0., 0.],\n",
       "       [0., 0., 0., ..., 0., 0., 0.]])"
      ]
     },
     "execution_count": 3,
     "metadata": {},
     "output_type": "execute_result"
    }
   ],
   "source": [
    "# Split into Training and Test\n",
    "import sklearn\n",
    "from sklearn.model_selection import train_test_split\n",
    "\n",
    "labels = [\n",
    "    'R', 'U', 'I', 'N', 'G', 'Z', 'T', 'S', 'A', 'F', 'O', 'H', \n",
    "    'del', 'nothing', 'space', 'M', 'J', 'C', 'D', 'V', 'Q', 'X', \n",
    "    'E', 'B', 'K', 'L', 'Y', 'P', 'W'\n",
    "]\n",
    "\n",
    "X = np.array(X)\n",
    "y = np.array(y)\n",
    "\n",
    "# Normalizing\n",
    "X_normalized = X.astype('float32') / 255.0\n",
    "\n",
    "# Training and Test\n",
    "X_train, X_test, y_train, y_test = train_test_split(X_normalized, y, test_size=0.3, random_state=42)\n",
    "\n",
    "# Shapes\n",
    "print(f\"Training data shape: {X_train.shape}, Test data shape: {X_test.shape}\")\n",
    "print(f\"Training labels shape: {y_train.shape}, Test labels shape: {y_test.shape}\")\n",
    "\n",
    "\n",
    "# Encoding\n",
    "y_train_encoded = to_categorical(y_train, num_classes=len(labels))\n",
    "y_test_encoded = to_categorical(y_test, num_classes=len(labels))\n",
    "\n",
    "y_train_encoded\n",
    "y_test_encoded\n"
   ]
  },
  {
   "cell_type": "code",
   "execution_count": 4,
   "metadata": {},
   "outputs": [],
   "source": [
    "from tensorflow.keras.models import Sequential\n",
    "from tensorflow.keras.optimizers import Adam"
   ]
  },
  {
   "cell_type": "code",
   "execution_count": 5,
   "metadata": {},
   "outputs": [
    {
     "name": "stderr",
     "output_type": "stream",
     "text": [
      "/opt/anaconda3/lib/python3.11/site-packages/keras/src/layers/convolutional/base_conv.py:107: UserWarning: Do not pass an `input_shape`/`input_dim` argument to a layer. When using Sequential models, prefer using an `Input(shape)` object as the first layer in the model instead.\n",
      "  super().__init__(activity_regularizer=activity_regularizer, **kwargs)\n"
     ]
    },
    {
     "name": "stdout",
     "output_type": "stream",
     "text": [
      "Epoch 1/10\n",
      "\u001b[1m1999/1999\u001b[0m \u001b[32m━━━━━━━━━━━━━━━━━━━━\u001b[0m\u001b[37m\u001b[0m \u001b[1m59s\u001b[0m 29ms/step - accuracy: 0.4418 - loss: 13.3422 - val_accuracy: 0.8477 - val_loss: 6.7652\n",
      "Epoch 2/10\n",
      "\u001b[1m1999/1999\u001b[0m \u001b[32m━━━━━━━━━━━━━━━━━━━━\u001b[0m\u001b[37m\u001b[0m \u001b[1m58s\u001b[0m 29ms/step - accuracy: 0.8891 - loss: 5.6379 - val_accuracy: 0.8014 - val_loss: 3.5434\n",
      "Epoch 3/10\n",
      "\u001b[1m1999/1999\u001b[0m \u001b[32m━━━━━━━━━━━━━━━━━━━━\u001b[0m\u001b[37m\u001b[0m \u001b[1m58s\u001b[0m 29ms/step - accuracy: 0.9462 - loss: 2.6574 - val_accuracy: 0.9730 - val_loss: 1.5155\n",
      "Epoch 4/10\n",
      "\u001b[1m1999/1999\u001b[0m \u001b[32m━━━━━━━━━━━━━━━━━━━━\u001b[0m\u001b[37m\u001b[0m \u001b[1m58s\u001b[0m 29ms/step - accuracy: 0.9678 - loss: 1.3205 - val_accuracy: 0.9666 - val_loss: 0.8363\n",
      "Epoch 5/10\n",
      "\u001b[1m1999/1999\u001b[0m \u001b[32m━━━━━━━━━━━━━━━━━━━━\u001b[0m\u001b[37m\u001b[0m \u001b[1m57s\u001b[0m 28ms/step - accuracy: 0.9766 - loss: 0.7120 - val_accuracy: 0.9557 - val_loss: 0.5363\n",
      "Epoch 6/10\n",
      "\u001b[1m1999/1999\u001b[0m \u001b[32m━━━━━━━━━━━━━━━━━━━━\u001b[0m\u001b[37m\u001b[0m \u001b[1m58s\u001b[0m 29ms/step - accuracy: 0.9818 - loss: 0.4241 - val_accuracy: 0.9717 - val_loss: 0.3401\n",
      "Epoch 7/10\n",
      "\u001b[1m1999/1999\u001b[0m \u001b[32m━━━━━━━━━━━━━━━━━━━━\u001b[0m\u001b[37m\u001b[0m \u001b[1m58s\u001b[0m 29ms/step - accuracy: 0.9851 - loss: 0.2876 - val_accuracy: 0.9757 - val_loss: 0.2580\n",
      "Epoch 8/10\n",
      "\u001b[1m1999/1999\u001b[0m \u001b[32m━━━━━━━━━━━━━━━━━━━━\u001b[0m\u001b[37m\u001b[0m \u001b[1m61s\u001b[0m 31ms/step - accuracy: 0.9869 - loss: 0.2183 - val_accuracy: 0.9779 - val_loss: 0.2132\n",
      "Epoch 9/10\n",
      "\u001b[1m1999/1999\u001b[0m \u001b[32m━━━━━━━━━━━━━━━━━━━━\u001b[0m\u001b[37m\u001b[0m \u001b[1m58s\u001b[0m 29ms/step - accuracy: 0.9885 - loss: 0.1807 - val_accuracy: 0.9856 - val_loss: 0.1820\n",
      "Epoch 10/10\n",
      "\u001b[1m1999/1999\u001b[0m \u001b[32m━━━━━━━━━━━━━━━━━━━━\u001b[0m\u001b[37m\u001b[0m \u001b[1m59s\u001b[0m 29ms/step - accuracy: 0.9902 - loss: 0.1564 - val_accuracy: 0.9896 - val_loss: 0.1456\n"
     ]
    }
   ],
   "source": [
    "classes = 29\n",
    "batch = 64\n",
    "epochs = 10\n",
    "learning_rate = 0.001\n",
    "\n",
    "model = Sequential()\n",
    "\n",
    "model.add(Conv2D(32, (3, 3), padding='same', input_shape=(32, 32, 3), activation='relu'))\n",
    "model.add(MaxPooling2D(pool_size=(2, 2)))\n",
    "model.add(BatchNormalization())\n",
    "\n",
    "model.add(Conv2D(64, (3, 3), padding='same', input_shape=(32, 32, 3), activation='relu'))\n",
    "model.add(MaxPooling2D(pool_size=(2, 2)))\n",
    "model.add(BatchNormalization())\n",
    "model.add(Dropout(0.2))\n",
    "\n",
    "model.add(Conv2D(128, (3, 3), padding='same', input_shape=(32, 32, 3), activation='relu'))\n",
    "model.add(MaxPooling2D(pool_size=(2, 2)))\n",
    "model.add(BatchNormalization())\n",
    "from tensorflow.keras.regularizers import l2\n",
    "\n",
    "model.add(Flatten())\n",
    "model.add(Dropout(0.2))\n",
    "model.add(Dense(1024, activation='relu',kernel_regularizer=l2(0.01)))\n",
    "model.add(Dense(classes, activation='softmax'))\n",
    "\n",
    "\n",
    "early_stopping = EarlyStopping(\n",
    "    monitor='val_loss',      \n",
    "    patience=2,              \n",
    "    restore_best_weights=True \n",
    ")\n",
    "from tensorflow.keras.optimizers import SGD\n",
    "\n",
    "sgd = SGD(learning_rate=learning_rate, momentum=0.9, nesterov=True)\n",
    "\n",
    "# Compile the model with SGD\n",
    "model.compile(optimizer=sgd, loss='categorical_crossentropy', metrics=['accuracy'])\n",
    "\n",
    "# Train the model with SGD\n",
    "history = model.fit(\n",
    "    X_train, \n",
    "    y_train_encoded, \n",
    "    batch_size=batch, \n",
    "    epochs=epochs, \n",
    "    validation_split=0.3, \n",
    "    shuffle=True, \n",
    "    verbose=1, \n",
    "    callbacks=[early_stopping]\n",
    ")\n"
   ]
  },
  {
   "cell_type": "code",
   "execution_count": 6,
   "metadata": {},
   "outputs": [
    {
     "name": "stdout",
     "output_type": "stream",
     "text": [
      "\u001b[1m2447/2447\u001b[0m \u001b[32m━━━━━━━━━━━━━━━━━━━━\u001b[0m\u001b[37m\u001b[0m \u001b[1m13s\u001b[0m 5ms/step - accuracy: 0.9901 - loss: 0.1464\n",
      "Test Loss: 0.1456, Test Accuracy: 0.9900\n"
     ]
    }
   ],
   "source": [
    "test_loss, test_accuracy = model.evaluate(X_test, y_test_encoded, verbose=1)\n",
    "print(f\"Test Loss: {test_loss:.4f}, Test Accuracy: {test_accuracy:.4f}\")\n"
   ]
  },
  {
   "cell_type": "code",
   "execution_count": 7,
   "metadata": {},
   "outputs": [
    {
     "data": {
      "image/png": "[encoded data removed]",
      "text/plain": [
       "<Figure size 640x480 with 1 Axes>"
      ]
     },
     "metadata": {},
     "output_type": "display_data"
    },
    {
     "data": {
      "image/png": "[encoded data removed]",
      "text/plain": [
       "<Figure size 640x480 with 1 Axes>"
      ]
     },
     "metadata": {},
     "output_type": "display_data"
    }
   ],
   "source": [
    "# Training and validation accuracy\n",
    "plt.plot(history.history['accuracy'], label='Train Accuracy', color='#ADD8E6')  # Training color\n",
    "plt.plot(history.history['val_accuracy'], label='Validation Accuracy', color='#041E42')  # Validation color\n",
    "plt.legend()\n",
    "plt.title('Training vs Validation Accuracy')\n",
    "plt.show()\n",
    "\n",
    "# Training and validation loss\n",
    "plt.plot(history.history['loss'], label='Train Loss', color='#ADD8E6')  # Training color\n",
    "plt.plot(history.history['val_loss'], label='Validation Loss', color='#041E42')  # Validation color\n",
    "plt.legend()\n",
    "plt.title('Training vs Validation Loss')\n",
    "plt.show()\n"
   ]
  },
  {
   "cell_type": "code",
   "execution_count": 8,
   "metadata": {},
   "outputs": [
    {
     "name": "stdout",
     "output_type": "stream",
     "text": [
      "\u001b[1m2447/2447\u001b[0m \u001b[32m━━━━━━━━━━━━━━━━━━━━\u001b[0m\u001b[37m\u001b[0m \u001b[1m13s\u001b[0m 5ms/step\n",
      "              precision    recall  f1-score   support\n",
      "\n",
      "           0       0.96      0.99      0.97      2642\n",
      "           1       1.00      0.92      0.96      2682\n",
      "           2       0.99      1.00      0.99      2622\n",
      "           3       0.96      1.00      0.98      2806\n",
      "           4       1.00      0.99      0.99      2757\n",
      "           5       1.00      1.00      1.00      2643\n",
      "           6       0.99      0.99      0.99      2667\n",
      "           7       0.99      0.99      0.99      2755\n",
      "           8       1.00      0.99      0.99      2733\n",
      "           9       1.00      1.00      1.00      2569\n",
      "          10       0.99      1.00      1.00      2660\n",
      "          11       0.99      1.00      0.99      2702\n",
      "          12       1.00      0.99      1.00      2704\n",
      "          13       1.00      1.00      1.00      2736\n",
      "          14       0.99      1.00      0.99      2619\n",
      "          15       1.00      0.96      0.98      2747\n",
      "          16       1.00      1.00      1.00      2642\n",
      "          17       1.00      1.00      1.00      2704\n",
      "          18       1.00      1.00      1.00      2745\n",
      "          19       0.97      0.97      0.97      2718\n",
      "          20       1.00      1.00      1.00      2742\n",
      "          21       0.99      0.99      0.99      2723\n",
      "          22       1.00      0.99      0.99      2709\n",
      "          23       1.00      0.99      0.99      2757\n",
      "          24       0.99      0.99      0.99      2680\n",
      "          25       1.00      0.99      0.99      2710\n",
      "          26       0.98      1.00      0.99      2707\n",
      "          27       1.00      1.00      1.00      2658\n",
      "          28       0.95      1.00      0.97      2761\n",
      "\n",
      "    accuracy                           0.99     78300\n",
      "   macro avg       0.99      0.99      0.99     78300\n",
      "weighted avg       0.99      0.99      0.99     78300\n",
      "\n",
      "[[2610    3    0    0    1    0    0    0    0    0    0    0    0    0\n",
      "     6    0    0    0    0    5    0    1    0    0   16    0    0    0\n",
      "     0]\n",
      " [ 109 2475    0    0    0    0    0    1    0    0    0    0    0    0\n",
      "    16    0    0    0    3   53    0   16    1    2    1    0    1    0\n",
      "     4]\n",
      " [   0    0 2614    0    0    0    0    0    0    0    0    0    0    0\n",
      "     0    0    8    0    0    0    0    0    0    0    0    0    0    0\n",
      "     0]\n",
      " [   0    0    0 2803    0    0    0    1    0    0    0    0    0    0\n",
      "     0    1    0    0    0    0    0    0    0    0    0    0    0    0\n",
      "     1]\n",
      " [   0    0    0    0 2729    0    0    0    0    0    0   23    1    0\n",
      "     0    0    2    0    0    0    0    0    0    0    0    0    0    2\n",
      "     0]\n",
      " [   0    0    0    0    0 2638    1    0    0    0    0    0    0    0\n",
      "     0    0    0    0    0    1    0    0    0    0    0    0    3    0\n",
      "     0]\n",
      " [   0    0    0    0    0    0 2635    2    0    0    0    0    0    0\n",
      "     0    0    0    0    0    0    0   10    0    0    0    0   17    0\n",
      "     3]\n",
      " [   0    0    0    5    0    0    1 2714    1    0    0    0    1    0\n",
      "     0    2    0    0    0    0    0    7    5    0    0    0   19    0\n",
      "     0]\n",
      " [   0    0    3    9    1    2    3    6 2694    0    2    0    0    0\n",
      "     0    5    0    0    0    0    0    0    2    0    0    0    1    0\n",
      "     5]\n",
      " [   0    0    1    0    1    0    0    0    0 2566    0    0    0    0\n",
      "     0    0    0    0    0    0    0    0    0    0    0    0    0    0\n",
      "     1]\n",
      " [   0    0    0    0    0    0    1    0    0    0 2654    0    0    0\n",
      "     1    0    0    0    0    0    0    0    0    0    0    0    0    0\n",
      "     4]\n",
      " [   0    0    1    0    1    0    0    0    0    0    0 2696    0    0\n",
      "     2    0    0    0    0    0    0    0    0    1    0    0    0    1\n",
      "     0]\n",
      " [   0    0    0    1    0   10    0    0    0    0    0    0 2690    0\n",
      "     1    2    0    0    0    0    0    0    0    0    0    0    0    0\n",
      "     0]\n",
      " [   0    0    0    0    0    0    0    0    0    0    0    0    0 2736\n",
      "     0    0    0    0    0    0    0    0    0    0    0    0    0    0\n",
      "     0]\n",
      " [   0    0    0    0    0    0    0    0    0    0    0    0    2    0\n",
      "  2613    0    0    0    0    0    0    0    0    0    0    0    0    0\n",
      "     4]\n",
      " [   0    0    0   87    0    0    0    4    0    0    1    0    3    0\n",
      "     0 2648    0    0    0    0    0    0    0    0    0    0    0    0\n",
      "     4]\n",
      " [   0    0    1    0    0    0    0    1    0    0    0    0    0    1\n",
      "     0    0 2639    0    0    0    0    0    0    0    0    0    0    0\n",
      "     0]\n",
      " [   0    0    0    0    0    0    0    0    0    0    6    0    0    0\n",
      "     0    0    0 2697    1    0    0    0    0    0    0    0    0    0\n",
      "     0]\n",
      " [   0    0    0    0    0    0    0    0    1    1    4    0    0    0\n",
      "     0    0    0    1 2736    0    0    0    0    0    1    0    0    0\n",
      "     1]\n",
      " [   2    0    1    0    0    0    0    0    0    0    0    0    1    0\n",
      "     3    0    0    0    1 2634    0    1    0    0    0    0    0    0\n",
      "    75]\n",
      " [   0    0    0    0    0    0    0    0    0    0    0    0    4    0\n",
      "     0    0    0    0    0    0 2734    0    0    0    0    0    2    2\n",
      "     0]\n",
      " [   0    0    0    0    0    0    0    2    0    0    0    0    0    0\n",
      "     1    0    0    0    0    7    0 2705    1    0    0    0    2    0\n",
      "     5]\n",
      " [   0    0   14    0    1    0    0    0    2    3    0    0    0    1\n",
      "     0    0    0    0    1    0    0    0 2683    0    1    0    0    0\n",
      "     3]\n",
      " [   2    0    5    0    1    0    0    0    0    1    0    1    0    0\n",
      "     1    0    0    0    3    2    0    0    2 2719    0    0    0    0\n",
      "    20]\n",
      " [   0    0    0    0    2    0    0    0    0    0    0    0    0    0\n",
      "     0    0    0    0    1    4    0    0    0    0 2664    0    0    0\n",
      "     9]\n",
      " [   1    0    0    1    0    0   19    0    0    1    2    0    0    0\n",
      "     0    0    0    0    2    0    0    2    0    0    0 2682    0    0\n",
      "     0]\n",
      " [   0    0    0    0    0    0    0    0    0    0    0    0    0    0\n",
      "     1    0    0    0    0    0    0    0    0    0    0    0 2706    0\n",
      "     0]\n",
      " [   0    0    0    0    0    0    0    0    0    0    0    3    0    0\n",
      "     3    0    0    0    0    0    1    0    0    0    0    0    5 2646\n",
      "     0]\n",
      " [   0    1    0    0    0    0    0    0    0    0    0    0    0    0\n",
      "     0    0    0    0    0    6    0    0    0    0    0    0    0    0\n",
      "  2754]]\n"
     ]
    }
   ],
   "source": [
    "# Predict classes\n",
    "y_pred = model.predict(X_test)\n",
    "y_pred_classes = np.argmax(y_pred, axis=1)\n",
    "y_test_classes = np.argmax(y_test_encoded, axis=1)\n",
    "\n",
    "# Classification report\n",
    "print(classification_report(y_test_classes, y_pred_classes))\n",
    "\n",
    "# Confusion matrix\n",
    "conf_matrix = confusion_matrix(y_test_classes, y_pred_classes)\n",
    "print(conf_matrix)\n"
   ]
  },
  {
   "cell_type": "code",
   "execution_count": 1,
   "metadata": {},
   "outputs": [
    {
     "ename": "NameError",
     "evalue": "name 'conf_matrix' is not defined",
     "output_type": "error",
     "traceback": [
      "\u001b[0;31m---------------------------------------------------------------------------\u001b[0m",
      "\u001b[0;31mNameError\u001b[0m                                 Traceback (most recent call last)",
      "Cell \u001b[0;32mIn[1], line 1\u001b[0m\n\u001b[0;32m----> 1\u001b[0m \u001b[38;5;28mprint\u001b[39m(conf_matrix)\n",
      "\u001b[0;31mNameError\u001b[0m: name 'conf_matrix' is not defined"
     ]
    }
   ],
   "source": [
    "print(conf_matrix)"
   ]
  },
  {
   "cell_type": "code",
   "execution_count": 9,
   "metadata": {},
   "outputs": [
    {
     "name": "stderr",
     "output_type": "stream",
     "text": [
      "WARNING:absl:You are saving your model as an HDF5 file via `model.save()` or `keras.saving.save_model(model)`. This file format is considered legacy. We recommend using instead the native Keras format, e.g. `model.save('my_model.keras')` or `keras.saving.save_model(model, 'my_model.keras')`. \n"
     ]
    }
   ],
   "source": [
    "model.save('labeled2.h5')"
   ]
  },
  {
   "cell_type": "code",
   "execution_count": 11,
   "metadata": {},
   "outputs": [
    {
     "name": "stdout",
     "output_type": "stream",
     "text": [
      "\u001b[1m1/1\u001b[0m \u001b[32m━━━━━━━━━━━━━━━━━━━━\u001b[0m\u001b[37m\u001b[0m \u001b[1m0s\u001b[0m 25ms/step\n",
      "The predicted class for the image is: B\n"
     ]
    }
   ],
   "source": [
    "import cv2\n",
    "import numpy as np\n",
    "from tensorflow.keras.preprocessing import image\n",
    "from tensorflow.keras.models import load_model\n",
    "\n",
    "img_path = '/Users/hannahkim/Downloads/archive-2/asl_alphabet_test/asl_alphabet_test/B_test.jpg'\n",
    "img = cv2.imread(img_path)\n",
    "img_resized = cv2.resize(img, (32, 32))\n",
    "img_rgb = convert_bgr_to_rgb(img_resized)\n",
    "img_normalized = img_rgb.astype('float32') / 255.0\n",
    "img_batch = np.expand_dims(img_normalized, axis=0)\n",
    "y_pred = model.predict(img_batch)\n",
    "\n",
    "y_pred_class = np.argmax(y_pred, axis=1)[0]\n",
    "\n",
    "labels = [\n",
    "    'R', 'U', 'I', 'N', 'G', 'Z', 'T', 'S', 'A', 'F', 'O', 'H', \n",
    "    'del', 'nothing', 'space', 'M', 'J', 'C', 'D', 'V', 'Q', 'X', \n",
    "    'E', 'B', 'K', 'L', 'Y', 'P', 'W'\n",
    "]\n",
    "\n",
    "predicted_label = labels[y_pred_class]\n",
    "\n",
    "print(f\"The predicted class for the image is: {predicted_label}\")\n"
   ]
  }
 ],
 "metadata": {
  "kernelspec": {
   "display_name": "base",
   "language": "python",
   "name": "python3"
  },
  "language_info": {
   "codemirror_mode": {
    "name": "ipython",
    "version": 3
   },
   "file_extension": ".py",
   "mimetype": "text/x-python",
   "name": "python",
   "nbconvert_exporter": "python",
   "pygments_lexer": "ipython3",
   "version": "3.11.7"
  }
 },
 "nbformat": 4,
 "nbformat_minor": 2
}
