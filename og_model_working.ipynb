{
 "cells": [
  {
   "cell_type": "code",
   "execution_count": null,
   "metadata": {},
   "outputs": [
    {
     "name": "stderr",
     "output_type": "stream",
     "text": [
      "2024-12-03 14:25:14.197568: I tensorflow/core/platform/cpu_feature_guard.cc:193] This TensorFlow binary is optimized with oneAPI Deep Neural Network Library (oneDNN) to use the following CPU instructions in performance-critical operations:  SSE4.1 SSE4.2\n",
      "To enable them in other operations, rebuild TensorFlow with the appropriate compiler flags.\n"
     ]
    }
   ],
   "source": [
    "import tensorflow as tf\n",
    "import keras\n",
    "from tensorflow import keras\n",
    "import kagglehub\n",
    "\n",
    "\n",
    "from tensorflow.keras import utils\n",
    "from tensorflow.keras.layers import Dense, Dropout, Flatten, Conv2D, MaxPooling2D, BatchNormalization\n",
    "from tensorflow.keras.models import Sequential\n",
    "\n",
    "import os\n",
    "import cv2\n",
    "import numpy as np\n",
    "from imgaug import augmenters as iaa\n",
    "\n",
    "from keras.utils import to_categorical\n",
    "from tensorflow.keras.utils import to_categorical\n",
    "from tensorflow.keras.callbacks import EarlyStopping\n",
    "import matplotlib.pyplot as plt\n",
    "\n",
    "from sklearn.metrics import classification_report, confusion_matrix\n",
    "from sklearn import metrics"
   ]
  },
  {
   "cell_type": "code",
   "execution_count": null,
   "metadata": {},
   "outputs": [
    {
     "name": "stdout",
     "output_type": "stream",
     "text": [
      "Warning: Looks like you're using an outdated `kagglehub` version, please consider updating (latest version: 0.3.4)\n",
      "Warning: Looks like you're using an outdated `kagglehub` version, please consider updating (latest version: 0.3.4)\n",
      "Obtaining and augmenting images of R ...\n",
      "Obtaining and augmenting images of U ...\n",
      "Obtaining and augmenting images of I ...\n",
      "Obtaining and augmenting images of N ...\n",
      "Obtaining and augmenting images of G ...\n",
      "Obtaining and augmenting images of Z ...\n",
      "Obtaining and augmenting images of T ...\n",
      "Obtaining and augmenting images of S ...\n",
      "Obtaining and augmenting images of A ...\n",
      "Obtaining and augmenting images of F ...\n",
      "Obtaining and augmenting images of O ...\n",
      "Obtaining and augmenting images of H ...\n",
      "Obtaining and augmenting images of del ...\n",
      "Obtaining and augmenting images of nothing ...\n",
      "Obtaining and augmenting images of space ...\n",
      "Obtaining and augmenting images of M ...\n",
      "Obtaining and augmenting images of J ...\n",
      "Obtaining and augmenting images of C ...\n",
      "Obtaining and augmenting images of D ...\n",
      "Obtaining and augmenting images of V ...\n",
      "Obtaining and augmenting images of Q ...\n",
      "Obtaining and augmenting images of X ...\n",
      "Obtaining and augmenting images of E ...\n",
      "Obtaining and augmenting images of B ...\n",
      "Obtaining and augmenting images of K ...\n",
      "Obtaining and augmenting images of L ...\n",
      "Obtaining and augmenting images of Y ...\n",
      "Obtaining and augmenting images of P ...\n",
      "Obtaining and augmenting images of W ...\n",
      "Dataset Size (including originals and augmentations): 522000\n"
     ]
    }
   ],
   "source": [
    "path = kagglehub.dataset_download(\"grassknoted/asl-alphabet\")\n",
    "train_images = os.path.join(path, 'asl_alphabet_train', 'asl_alphabet_train')\n",
    "\n",
    "# Augmentation Sequence\n",
    "augmentation = iaa.Sequential([\n",
    "    iaa.Fliplr(0.5),  # Horizontally flip 50% of images\n",
    "    iaa.Affine(rotate=(-10, 10)),  # Rotate images within [-10, 10] degrees\n",
    "    iaa.AddToBrightness((-30, 30)),  # Adjust brightness\n",
    "    iaa.AdditiveGaussianNoise(scale=(0, 0.05 * 255)),  # Add Gaussian noise\n",
    "    iaa.Crop(percent=(0, 0.1))  # Crop by up to 10% from each side\n",
    "])\n",
    "\n",
    "# Data loading and augmentation\n",
    "def get_data_with_augmentation(data_dir):\n",
    "    images = []\n",
    "    labels = []\n",
    "\n",
    "    dir_list = os.listdir(data_dir)\n",
    "    for i, label in enumerate(dir_list):\n",
    "        print(\"Obtaining and augmenting images of\", label, \"...\")\n",
    "        for image in os.listdir(os.path.join(data_dir, label)):\n",
    "            img_path = os.path.join(data_dir, label, image)\n",
    "            img = cv2.imread(img_path)\n",
    "            img = cv2.resize(img, (32, 32))\n",
    "            \n",
    "            # Append the original image\n",
    "            images.append(img)\n",
    "            labels.append(i)\n",
    "\n",
    "            # Apply augmentations\n",
    "            img_augmented = augmentation(images=[img] * 5)  # Augment each image 5 times\n",
    "            images.extend(img_augmented)\n",
    "            labels.extend([i] * len(img_augmented))\n",
    "\n",
    "    return np.array(images), np.array(labels)\n",
    "\n",
    "# Load data with augmentations\n",
    "X, y = get_data_with_augmentation(train_images)\n",
    "\n",
    "print(\"Dataset Size (including originals and augmentations):\", len(X))\n"
   ]
  },
  {
   "cell_type": "code",
   "execution_count": null,
   "metadata": {},
   "outputs": [
    {
     "name": "stdout",
     "output_type": "stream",
     "text": [
      "Training data shape: (417600, 32, 32, 3), Test data shape: (104400, 32, 32, 3)\n",
      "Training labels shape: (417600,), Test labels shape: (104400,)\n"
     ]
    }
   ],
   "source": [
    "# Split into Training and Test\n",
    "import sklearn\n",
    "from sklearn.model_selection import train_test_split\n",
    "\n",
    "labels = ['A', 'B', 'C', 'D', 'E', 'F', 'G', 'H', 'I', 'J', 'K',\n",
    "           'L', 'M', 'N', 'O', 'P', 'Q', 'R', 'S', 'T', 'U', 'V',\n",
    "           'W', 'X', 'Y', 'Z', 'del', 'nothing', 'space']\n",
    "\n",
    "X = np.array(X)\n",
    "y = np.array(y)\n",
    "\n",
    "# Normalize the images (scale pixel values to range [0, 1])\n",
    "X_normalized = X.astype('float32') / 255.0\n",
    "\n",
    "# Split data into training and testing sets (80% train, 20% test)\n",
    "X_train, X_test, y_train, y_test = train_test_split(X_normalized, y, test_size=0.2, random_state=42)\n",
    "\n",
    "# Verify the shapes\n",
    "print(f\"Training data shape: {X_train.shape}, Test data shape: {X_test.shape}\")\n",
    "print(f\"Training labels shape: {y_train.shape}, Test labels shape: {y_test.shape}\")\n",
    "\n",
    "\n",
    "y_train_encoded = to_categorical(y_train, num_classes=len(labels))\n",
    "y_test_encoded = to_categorical(y_test, num_classes=len(labels))\n"
   ]
  },
  {
   "cell_type": "code",
   "execution_count": 8,
   "metadata": {},
   "outputs": [],
   "source": [
    "from tensorflow.keras.models import Sequential\n",
    "from tensorflow.keras.optimizers import Adam"
   ]
  },
  {
   "cell_type": "code",
   "execution_count": 75,
   "metadata": {},
   "outputs": [
    {
     "name": "stdout",
     "output_type": "stream",
     "text": [
      "Epoch 1/15\n",
      "2610/2610 [==============================] - 558s 213ms/step - loss: 2.2090 - accuracy: 0.3796 - val_loss: 0.9770 - val_accuracy: 0.6869\n",
      "Epoch 2/15\n",
      "2610/2610 [==============================] - 546s 209ms/step - loss: 0.5748 - accuracy: 0.8136 - val_loss: 0.6828 - val_accuracy: 0.7926\n",
      "Epoch 3/15\n",
      "2610/2610 [==============================] - 516s 198ms/step - loss: 0.4756 - accuracy: 0.8600 - val_loss: 0.7035 - val_accuracy: 0.8327\n",
      "Epoch 4/15\n",
      "2610/2610 [==============================] - 513s 197ms/step - loss: 0.4549 - accuracy: 0.8754 - val_loss: 0.3255 - val_accuracy: 0.8988\n",
      "Epoch 5/15\n",
      "2610/2610 [==============================] - 518s 198ms/step - loss: 0.4358 - accuracy: 0.8859 - val_loss: 1.2857 - val_accuracy: 0.7964\n",
      "Epoch 6/15\n",
      "2610/2610 [==============================] - 519s 199ms/step - loss: 0.4437 - accuracy: 0.8916 - val_loss: 0.6868 - val_accuracy: 0.8489\n"
     ]
    }
   ],
   "source": [
    "classes = 29\n",
    "batch = 128\n",
    "epochs = 15\n",
    "learning_rate = 0.01\n",
    "\n",
    "model = Sequential()\n",
    "\n",
    "model.add(Conv2D(64, (3, 3), padding='same', input_shape=(32, 32, 3), activation='relu'))\n",
    "model.add(MaxPooling2D(pool_size=(2, 2)))\n",
    "model.add(BatchNormalization())\n",
    "\n",
    "model.add(Conv2D(128, (3, 3), padding='same', input_shape=(32, 32, 3), activation='relu'))\n",
    "model.add(MaxPooling2D(pool_size=(2, 2)))\n",
    "model.add(BatchNormalization())\n",
    "model.add(Dropout(0.2))\n",
    "\n",
    "#model.add(Conv2D(256, (3, 3), padding='same', input_shape=(32, 32, 3), activation='relu'))\n",
    "#model.add(MaxPooling2D(pool_size=(2, 2)))\n",
    "#model.add(BatchNormalization())\n",
    "\n",
    "model.add(Flatten())\n",
    "model.add(Dropout(0.2))\n",
    "model.add(Dense(1024, activation='relu'))\n",
    "model.add(Dense(classes, activation='softmax'))\n",
    "\n",
    "adam = Adam(learning_rate)\n",
    "model.compile(optimizer=adam, loss='categorical_crossentropy', metrics=['accuracy'])\n",
    "\n",
    "early_stopping = EarlyStopping(\n",
    "    monitor='val_loss',      \n",
    "    patience=2,              \n",
    "    restore_best_weights=True \n",
    ")\n",
    "\n",
    "history = model.fit(X_train, y_train_encoded, batch_size=batch, epochs=epochs, validation_split=0.2, shuffle = True, verbose=1,\n",
    "    callbacks=[early_stopping])"
   ]
  },
  {
   "cell_type": "code",
   "execution_count": 76,
   "metadata": {},
   "outputs": [
    {
     "name": "stdout",
     "output_type": "stream",
     "text": [
      "3263/3263 [==============================] - 79s 24ms/step - loss: 0.3284 - accuracy: 0.8998\n",
      "Test Loss: 0.3284, Test Accuracy: 0.8998\n"
     ]
    }
   ],
   "source": [
    "# Evaluate the model on the test set\n",
    "test_loss, test_accuracy = model.evaluate(X_test, y_test_encoded, verbose=1)\n",
    "print(f\"Test Loss: {test_loss:.4f}, Test Accuracy: {test_accuracy:.4f}\")\n"
   ]
  },
  {
   "cell_type": "code",
   "execution_count": 77,
   "metadata": {},
   "outputs": [
    {
     "data": {
      "image/png": "[encoded data removed]",
      "text/plain": [
       "<Figure size 640x480 with 1 Axes>"
      ]
     },
     "metadata": {},
     "output_type": "display_data"
    },
    {
     "data": {
      "image/png": "[encoded data removed]",
      "text/plain": [
       "<Figure size 640x480 with 1 Axes>"
      ]
     },
     "metadata": {},
     "output_type": "display_data"
    }
   ],
   "source": [
    "# Training and validation accuracy\n",
    "plt.plot(history.history['accuracy'], label='Train Accuracy')\n",
    "plt.plot(history.history['val_accuracy'], label='Validation Accuracy')\n",
    "plt.legend()\n",
    "plt.title('Accuracy')\n",
    "plt.show()\n",
    "\n",
    "# Training and validation loss\n",
    "plt.plot(history.history['loss'], label='Train Loss')\n",
    "plt.plot(history.history['val_loss'], label='Validation Loss')\n",
    "plt.legend()\n",
    "plt.title('Loss')\n",
    "plt.show()"
   ]
  },
  {
   "cell_type": "code",
   "execution_count": null,
   "metadata": {},
   "outputs": [
    {
     "name": "stdout",
     "output_type": "stream",
     "text": [
      "3263/3263 [==============================] - 109s 33ms/step\n",
      "              precision    recall  f1-score   support\n",
      "\n",
      "           0       0.88      0.94      0.91      3575\n",
      "           1       0.89      0.91      0.90      3570\n",
      "           2       0.98      0.94      0.96      3645\n",
      "           3       0.89      0.94      0.92      3543\n",
      "           4       0.93      0.95      0.94      3672\n",
      "           5       0.97      0.98      0.98      3605\n",
      "           6       0.95      0.98      0.97      3574\n",
      "           7       0.91      0.92      0.92      3520\n",
      "           8       0.95      0.95      0.95      3529\n",
      "           9       0.99      0.98      0.98      3676\n",
      "          10       0.98      0.97      0.98      3628\n",
      "          11       0.93      0.98      0.95      3702\n",
      "          12       0.99      0.88      0.93      3504\n",
      "          13       0.99      1.00      0.99      3706\n",
      "          14       0.99      0.98      0.98      3518\n",
      "          15       0.92      0.88      0.90      3492\n",
      "          16       0.97      0.97      0.97      3667\n",
      "          17       0.99      0.99      0.99      3617\n",
      "          18       0.97      0.98      0.98      3538\n",
      "          19       0.92      0.92      0.92      3622\n",
      "          20       0.77      1.00      0.87      3603\n",
      "          21       0.96      0.91      0.93      3592\n",
      "          22       0.97      0.94      0.96      3600\n",
      "          23       0.99      0.94      0.96      3596\n",
      "          24       0.95      0.98      0.97      3615\n",
      "          25       0.99      0.99      0.99      3664\n",
      "          26       0.97      0.98      0.98      3606\n",
      "          27       1.00      0.77      0.87      3671\n",
      "          28       0.95      0.94      0.94      3550\n",
      "\n",
      "    accuracy                           0.95    104400\n",
      "   macro avg       0.95      0.95      0.95    104400\n",
      "weighted avg       0.95      0.95      0.95    104400\n",
      "\n",
      "[[3348  192    2    0    8    0    0    0    0    0    0    2    0    0\n",
      "     1    0    0    0    0    1    0    4    0    0   17    0    0    0\n",
      "     0]\n",
      " [ 260 3256    0    0    0    5    0    1    0    0    0    0    0    1\n",
      "     3    0    0    0    2   13    0   26    0    1    1    0    0    0\n",
      "     1]\n",
      " [  34    2 3415    2   49    0    0    0   15    2    0    1    0    0\n",
      "     0    1   29    0    2    0    0   12   10    1   65    0    5    0\n",
      "     0]\n",
      " [   0    0    0 3336    3    0    0    1    4    1    3    0    5    2\n",
      "     0  176    6    0    0    0    2    0    4    0    0    0    0    0\n",
      "     0]\n",
      " [   1    0    4    1 3480    0    0    6    0    0    0  150    0    4\n",
      "     0    0   17    0    0    0    0    2    1    0    5    0    1    0\n",
      "     0]\n",
      " [   0    0    0    0    1 3536   19    3   11    1    0    1    5    2\n",
      "     4    2    1    3    0    0    3    7    1    0    0    2    2    1\n",
      "     0]\n",
      " [   0    1    0    0    0    9 3515   16    1    0    0    0    0    0\n",
      "     0    0    0    0    0    0    0    8    0    0    0   12   12    0\n",
      "     0]\n",
      " [   0    4    1   56    1    2   41 3242   17    0    4    0    2    8\n",
      "     1   44    9    0    0    9    7   27   26    0    0    0   17    0\n",
      "     2]\n",
      " [   0    2    1    0    1   27   46   32 3344    6    2    0    0    0\n",
      "     0   14    0    0    0    1    0    3   34   13    0    0    1    0\n",
      "     2]\n",
      " [   0    0    5    0    2    1    6    8    0 3585    1    0    0    0\n",
      "     0    5    3    1   25    1    0    3    2    0    9    0   11    0\n",
      "     8]\n",
      " [   1    0    0    3    0    3   14    5    0    5 3536    0    0    0\n",
      "     5    0    1    9   16    0   14    2    0    0    0    0    3    0\n",
      "    11]\n",
      " [   1    1    0    0   40    0    0    0    0    0    0 3631    0   16\n",
      "     0    0    1    0    0    0   12    0    0    0    0    0    0    0\n",
      "     0]\n",
      " [   7    1    0    3    3    9    0   29    0    0   45   14 3070    3\n",
      "     7    4    1    0    0    0  303    1    0    0    0    0    4    0\n",
      "     0]\n",
      " [   0    0    0    0    0    0    0    0    0    0    0    0    0 3706\n",
      "     0    0    0    0    0    0    0    0    0    0    0    0    0    0\n",
      "     0]\n",
      " [   6    6    1    1    9    1    0    1    0    1    0    4    0    0\n",
      "  3455    0    0    0    0    9    1    0    0    0    4    1   18    0\n",
      "     0]\n",
      " [   2    1    1  326    3    3    1   34   28    0    1    0    0    0\n",
      "     0 3061   18    0    0    1    0    1   11    0    0    0    0    0\n",
      "     0]\n",
      " [   0    0    6    2   77    0    0    0    0    0    0   41    0    0\n",
      "     1    0 3539    0    0    0    0    0    0    0    0    0    1    0\n",
      "     0]\n",
      " [   0    2    0    0    0    2    0    0    2    0    3    0    0    0\n",
      "     0    0    0 3582    3    0   22    0    0    0    0    1    0    0\n",
      "     0]\n",
      " [   3   13    2    0    1    0    0    0    3    6    1    0    0    0\n",
      "     3    0    0    7 3483    9    0    1    0    0    1    5    0    0\n",
      "     0]\n",
      " [  30   28    0    0    2    0    0    0    0    0    0    0    0    1\n",
      "     5    0    0    0    2 3332    0   21    0    0   71    0    1    0\n",
      "   129]\n",
      " [   0    0    0    0    0    2    0    0    0    0    0    5    0    8\n",
      "     1    0    0    0    0    0 3587    0    0    0    0    0    0    0\n",
      "     0]\n",
      " [  45   49   24    2    2   16   22  128   10    0    0    0    2    0\n",
      "     1    3    0    0    0   12    0 3256    3    1    2    1    2    0\n",
      "    11]\n",
      " [   0    0   10    2   10    0    2   26   71   15    1    0    0    0\n",
      "     0   26    0    2    2    2    0    6 3391   31    1    0    0    0\n",
      "     2]\n",
      " [  18  105    0    0    6    0    0    0    8    0    0    1    0    0\n",
      "     0    0    0    0   41   16    0    3   16 3380    2    0    0    0\n",
      "     0]\n",
      " [  27    0    1    0    2    0    0    0    0    3    0    1    0    0\n",
      "     0    0    0    0    4   17    0    2    0    3 3555    0    0    0\n",
      "     0]\n",
      " [   5    4    0    0    0    2    8    1    0    0    5    0    0    0\n",
      "     1    2    0    1   21    0    0    0    0    0    1 3612    1    0\n",
      "     0]\n",
      " [   0    0    0    0    4    1   21   19    0    1    0    3    0    1\n",
      "     3    0    8    0    0    1    0    0    0    0    0    2 3533    0\n",
      "     9]\n",
      " [   0    0    0    1   21    5    0    0    0    1    1   63    4    0\n",
      "     4    0   20    5    0    0  706    0    0    0    0    0    9 2831\n",
      "     0]\n",
      " [   0    3    0    0    2    4    7    2    4    0    0    0    0    0\n",
      "     3    0    0    0    1  179    0    2    1    0    5    0    5    0\n",
      "  3332]]\n"
     ]
    }
   ],
   "source": [
    "# Predict classes\n",
    "y_pred = model.predict(X_test)\n",
    "y_pred_classes = np.argmax(y_pred, axis=1)\n",
    "y_test_classes = np.argmax(y_test_encoded, axis=1)\n",
    "\n",
    "# Classification report\n",
    "print(classification_report(y_test_classes, y_pred_classes))\n",
    "\n",
    "# Confusion matrix\n",
    "conf_matrix = confusion_matrix(y_test_classes, y_pred_classes)\n",
    "print(conf_matrix)\n"
   ]
  }
 ],
 "metadata": {
  "kernelspec": {
   "display_name": "myenv",
   "language": "python",
   "name": "python3"
  },
  "language_info": {
   "codemirror_mode": {
    "name": "ipython",
    "version": 3
   },
   "file_extension": ".py",
   "mimetype": "text/x-python",
   "name": "python",
   "nbconvert_exporter": "python",
   "pygments_lexer": "ipython3",
   "version": "3.9.18"
  }
 },
 "nbformat": 4,
 "nbformat_minor": 2
}
