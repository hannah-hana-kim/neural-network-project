{
 "cells": [
  {
   "cell_type": "code",
   "execution_count": 2,
   "metadata": {},
   "outputs": [
    {
     "name": "stderr",
     "output_type": "stream",
     "text": [
      "2024-12-04 09:30:26.614892: I tensorflow/core/platform/cpu_feature_guard.cc:193] This TensorFlow binary is optimized with oneAPI Deep Neural Network Library (oneDNN) to use the following CPU instructions in performance-critical operations:  SSE4.1 SSE4.2\n",
      "To enable them in other operations, rebuild TensorFlow with the appropriate compiler flags.\n"
     ]
    }
   ],
   "source": [
    "import tensorflow as tf\n",
    "import keras\n",
    "from tensorflow import keras\n",
    "import kagglehub\n",
    "\n",
    "\n",
    "from tensorflow.keras import utils\n",
    "from tensorflow.keras.layers import Dense, Dropout, Flatten, Conv2D, MaxPooling2D, BatchNormalization\n",
    "from tensorflow.keras.models import Sequential\n",
    "\n",
    "import os\n",
    "import cv2\n",
    "import numpy as np\n",
    "from imgaug import augmenters as iaa\n",
    "\n",
    "from keras.utils import to_categorical\n",
    "from tensorflow.keras.utils import to_categorical\n",
    "from tensorflow.keras.callbacks import EarlyStopping\n",
    "import matplotlib.pyplot as plt\n",
    "\n",
    "from sklearn.metrics import classification_report, confusion_matrix\n",
    "from sklearn import metrics"
   ]
  },
  {
   "cell_type": "code",
   "execution_count": 4,
   "metadata": {},
   "outputs": [
    {
     "name": "stdout",
     "output_type": "stream",
     "text": [
      "Warning: Looks like you're using an outdated `kagglehub` version, please consider updating (latest version: 0.3.4)\n",
      "Obtaining and augmenting images of R ...\n",
      "Obtaining and augmenting images of U ...\n",
      "Obtaining and augmenting images of I ...\n",
      "Obtaining and augmenting images of N ...\n",
      "Obtaining and augmenting images of G ...\n",
      "Obtaining and augmenting images of Z ...\n",
      "Obtaining and augmenting images of T ...\n",
      "Obtaining and augmenting images of S ...\n",
      "Obtaining and augmenting images of A ...\n",
      "Obtaining and augmenting images of F ...\n",
      "Obtaining and augmenting images of O ...\n",
      "Obtaining and augmenting images of H ...\n",
      "Obtaining and augmenting images of del ...\n",
      "Obtaining and augmenting images of nothing ...\n",
      "Obtaining and augmenting images of space ...\n",
      "Obtaining and augmenting images of M ...\n",
      "Obtaining and augmenting images of J ...\n",
      "Obtaining and augmenting images of C ...\n",
      "Obtaining and augmenting images of D ...\n",
      "Obtaining and augmenting images of V ...\n",
      "Obtaining and augmenting images of Q ...\n",
      "Obtaining and augmenting images of X ...\n",
      "Obtaining and augmenting images of E ...\n",
      "Obtaining and augmenting images of B ...\n",
      "Obtaining and augmenting images of K ...\n",
      "Obtaining and augmenting images of L ...\n",
      "Obtaining and augmenting images of Y ...\n",
      "Obtaining and augmenting images of P ...\n",
      "Obtaining and augmenting images of W ...\n",
      "Dataset Size (including originals and augmentations): 261000\n"
     ]
    }
   ],
   "source": [
    "path = kagglehub.dataset_download(\"grassknoted/asl-alphabet\")\n",
    "train_images = os.path.join(path, 'asl_alphabet_train', 'asl_alphabet_train')\n",
    "\n",
    "# Augmentation Sequence\n",
    "augmentation = iaa.Sequential([\n",
    "    iaa.Affine(rotate=(-10, 10)),  # Rotate images within [-10, 10] degrees\n",
    "    iaa.AddToBrightness((-2, 2)),  # Adjust brightness\n",
    "    iaa.AdditiveGaussianNoise(scale=(0, 0.001 * 255)),  # Add Gaussian noise\n",
    "    iaa.Crop(percent=(0, 0.1))  # Crop by up to 10% from each side\n",
    "])\n",
    "# Function to convert BGR to RGB for display\n",
    "def convert_bgr_to_rgb(image):\n",
    "    return cv2.cvtColor(image, cv2.COLOR_BGR2RGB)\n",
    "\n",
    "# Data loading and augmentation\n",
    "def get_data_with_augmentation(data_dir):\n",
    "    images = []\n",
    "    labels = []\n",
    "\n",
    "    dir_list = os.listdir(data_dir)\n",
    "    for i, label in enumerate(dir_list):\n",
    "        print(\"Obtaining and augmenting images of\", label, \"...\")\n",
    "        for image in os.listdir(os.path.join(data_dir, label)):\n",
    "            img_path = os.path.join(data_dir, label, image)\n",
    "            img = cv2.imread(img_path)\n",
    "            img = cv2.resize(img, (32, 32))\n",
    "            \n",
    "            # Append the original image\n",
    "            images.append(img)\n",
    "            labels.append(i)\n",
    "\n",
    "            # Apply augmentations\n",
    "            img_augmented = augmentation(images=[img] * 2)  \n",
    "            images.extend(img_augmented)\n",
    "            labels.extend([i] * len(img_augmented))\n",
    "\n",
    "    return np.array(images), np.array(labels)\n",
    "\n",
    "# Loading data with augmentation\n",
    "X, y = get_data_with_augmentation(train_images)\n",
    "\n",
    "print(\"Dataset Size (including originals and augmentations):\", len(X))\n"
   ]
  },
  {
   "cell_type": "code",
   "execution_count": 43,
   "metadata": {},
   "outputs": [
    {
     "name": "stdout",
     "output_type": "stream",
     "text": [
      "Training data shape: (182700, 32, 32, 3), Test data shape: (78300, 32, 32, 3)\n",
      "Training labels shape: (182700,), Test labels shape: (78300,)\n"
     ]
    },
    {
     "data": {
      "text/plain": [
       "array([[1., 0., 0., ..., 0., 0., 0.],\n",
       "       [0., 0., 0., ..., 1., 0., 0.],\n",
       "       [0., 0., 0., ..., 0., 0., 0.],\n",
       "       ...,\n",
       "       [0., 0., 0., ..., 0., 0., 0.],\n",
       "       [0., 0., 0., ..., 0., 0., 0.],\n",
       "       [0., 0., 0., ..., 0., 0., 0.]], dtype=float32)"
      ]
     },
     "execution_count": 43,
     "metadata": {},
     "output_type": "execute_result"
    }
   ],
   "source": [
    "# Split into Training and Test\n",
    "import sklearn\n",
    "from sklearn.model_selection import train_test_split\n",
    "\n",
    "labels = [\n",
    "    'R', 'U', 'I', 'N', 'G', 'Z', 'T', 'S', 'A', 'F', 'O', 'H', \n",
    "    'del', 'nothing', 'space', 'M', 'J', 'C', 'D', 'V', 'Q', 'X', \n",
    "    'E', 'B', 'K', 'L', 'Y', 'P', 'W'\n",
    "]\n",
    "\n",
    "X = np.array(X)\n",
    "y = np.array(y)\n",
    "\n",
    "# Normalizing\n",
    "X_normalized = X.astype('float32') / 255.0\n",
    "\n",
    "# Training and Test\n",
    "X_train, X_test, y_train, y_test = train_test_split(X_normalized, y, test_size=0.3, random_state=42)\n",
    "\n",
    "# Shapes\n",
    "print(f\"Training data shape: {X_train.shape}, Test data shape: {X_test.shape}\")\n",
    "print(f\"Training labels shape: {y_train.shape}, Test labels shape: {y_test.shape}\")\n",
    "\n",
    "\n",
    "# Encoding\n",
    "y_train_encoded = to_categorical(y_train, num_classes=len(labels))\n",
    "y_test_encoded = to_categorical(y_test, num_classes=len(labels))\n",
    "\n",
    "y_train_encoded\n",
    "y_test_encoded\n"
   ]
  },
  {
   "cell_type": "code",
   "execution_count": 32,
   "metadata": {},
   "outputs": [],
   "source": [
    "from tensorflow.keras.models import Sequential\n",
    "from tensorflow.keras.optimizers import Adam"
   ]
  },
  {
   "cell_type": "code",
   "execution_count": 44,
   "metadata": {},
   "outputs": [
    {
     "name": "stdout",
     "output_type": "stream",
     "text": [
      "Epoch 1/10\n",
      "1999/1999 [==============================] - 166s 83ms/step - loss: 10.7043 - accuracy: 0.6436 - val_loss: 7.0107 - val_accuracy: 0.7614\n",
      "Epoch 2/10\n",
      "1999/1999 [==============================] - 233s 117ms/step - loss: 4.7398 - accuracy: 0.8977 - val_loss: 3.1899 - val_accuracy: 0.9253\n",
      "Epoch 3/10\n",
      "1999/1999 [==============================] - 225s 113ms/step - loss: 2.2537 - accuracy: 0.9503 - val_loss: 1.6519 - val_accuracy: 0.9262\n",
      "Epoch 4/10\n",
      "1999/1999 [==============================] - 140s 70ms/step - loss: 1.1362 - accuracy: 0.9694 - val_loss: 1.0572 - val_accuracy: 0.8801\n",
      "Epoch 5/10\n",
      "1999/1999 [==============================] - 141s 70ms/step - loss: 0.6224 - accuracy: 0.9779 - val_loss: 0.4753 - val_accuracy: 0.9798\n",
      "Epoch 6/10\n",
      "1999/1999 [==============================] - 150s 75ms/step - loss: 0.3803 - accuracy: 0.9833 - val_loss: 0.4687 - val_accuracy: 0.9272\n",
      "Epoch 7/10\n",
      "1999/1999 [==============================] - 137s 69ms/step - loss: 0.2639 - accuracy: 0.9860 - val_loss: 0.2090 - val_accuracy: 0.9887\n",
      "Epoch 8/10\n",
      "1999/1999 [==============================] - 139s 70ms/step - loss: 0.2034 - accuracy: 0.9879 - val_loss: 0.2670 - val_accuracy: 0.9550\n",
      "Epoch 9/10\n",
      "1999/1999 [==============================] - 129s 65ms/step - loss: 0.1702 - accuracy: 0.9892 - val_loss: 0.1469 - val_accuracy: 0.9922\n",
      "Epoch 10/10\n",
      "1999/1999 [==============================] - 127s 63ms/step - loss: 0.1490 - accuracy: 0.9909 - val_loss: 0.1541 - val_accuracy: 0.9842\n"
     ]
    }
   ],
   "source": [
    "classes = 29\n",
    "batch = 64\n",
    "epochs = 10\n",
    "learning_rate = 0.001\n",
    "\n",
    "model = Sequential()\n",
    "\n",
    "model.add(Conv2D(32, (3, 3), padding='same', input_shape=(32, 32, 3), activation='relu'))\n",
    "model.add(MaxPooling2D(pool_size=(2, 2)))\n",
    "model.add(BatchNormalization())\n",
    "\n",
    "model.add(Conv2D(64, (3, 3), padding='same', input_shape=(32, 32, 3), activation='relu'))\n",
    "model.add(MaxPooling2D(pool_size=(2, 2)))\n",
    "model.add(BatchNormalization())\n",
    "model.add(Dropout(0.2))\n",
    "\n",
    "model.add(Conv2D(128, (3, 3), padding='same', input_shape=(32, 32, 3), activation='relu'))\n",
    "model.add(MaxPooling2D(pool_size=(2, 2)))\n",
    "model.add(BatchNormalization())\n",
    "from tensorflow.keras.regularizers import l2\n",
    "\n",
    "model.add(Flatten())\n",
    "model.add(Dropout(0.2))\n",
    "model.add(Dense(1024, activation='relu',kernel_regularizer=l2(0.01)))\n",
    "model.add(Dense(classes, activation='softmax'))\n",
    "\n",
    "\n",
    "early_stopping = EarlyStopping(\n",
    "    monitor='val_loss',      \n",
    "    patience=2,              \n",
    "    restore_best_weights=True \n",
    ")\n",
    "from tensorflow.keras.optimizers import SGD\n",
    "\n",
    "sgd = SGD(learning_rate=learning_rate, momentum=0.9, nesterov=True)\n",
    "\n",
    "# Compile the model with SGD\n",
    "model.compile(optimizer=sgd, loss='categorical_crossentropy', metrics=['accuracy'])\n",
    "\n",
    "# Train the model with SGD\n",
    "history = model.fit(\n",
    "    X_train, \n",
    "    y_train_encoded, \n",
    "    batch_size=batch, \n",
    "    epochs=epochs, \n",
    "    validation_split=0.3, \n",
    "    shuffle=True, \n",
    "    verbose=1, \n",
    "    callbacks=[early_stopping]\n",
    ")\n"
   ]
  },
  {
   "cell_type": "code",
   "execution_count": 45,
   "metadata": {},
   "outputs": [
    {
     "name": "stdout",
     "output_type": "stream",
     "text": [
      "2447/2447 [==============================] - 26s 11ms/step - loss: 0.1550 - accuracy: 0.9838\n",
      "Test Loss: 0.1550, Test Accuracy: 0.9838\n"
     ]
    }
   ],
   "source": [
    "test_loss, test_accuracy = model.evaluate(X_test, y_test_encoded, verbose=1)\n",
    "print(f\"Test Loss: {test_loss:.4f}, Test Accuracy: {test_accuracy:.4f}\")\n"
   ]
  },
  {
   "cell_type": "code",
   "execution_count": 46,
   "metadata": {},
   "outputs": [
    {
     "data": {
      "image/png": "[encoded data removed]",
      "text/plain": [
       "<Figure size 640x480 with 1 Axes>"
      ]
     },
     "metadata": {},
     "output_type": "display_data"
    },
    {
     "data": {
      "image/png": "[encoded data removed]",
      "text/plain": [
       "<Figure size 640x480 with 1 Axes>"
      ]
     },
     "metadata": {},
     "output_type": "display_data"
    }
   ],
   "source": [
    "# Training and validation accuracy\n",
    "plt.plot(history.history['accuracy'], label='Train Accuracy', color='#ADD8E6')  # Training color\n",
    "plt.plot(history.history['val_accuracy'], label='Validation Accuracy', color='#041E42')  # Validation color\n",
    "plt.legend()\n",
    "plt.title('Training vs Validation Accuracy')\n",
    "plt.show()\n",
    "\n",
    "# Training and validation loss\n",
    "plt.plot(history.history['loss'], label='Train Loss', color='#ADD8E6')  # Training color\n",
    "plt.plot(history.history['val_loss'], label='Validation Loss', color='#041E42')  # Validation color\n",
    "plt.legend()\n",
    "plt.title('Training vs Validation Loss')\n",
    "plt.show()\n"
   ]
  },
  {
   "cell_type": "code",
   "execution_count": 47,
   "metadata": {},
   "outputs": [
    {
     "name": "stdout",
     "output_type": "stream",
     "text": [
      "2447/2447 [==============================] - 25s 10ms/step\n",
      "              precision    recall  f1-score   support\n",
      "\n",
      "           0       1.00      0.90      0.95      2642\n",
      "           1       0.87      1.00      0.93      2682\n",
      "           2       1.00      0.99      0.99      2622\n",
      "           3       1.00      0.93      0.96      2806\n",
      "           4       1.00      1.00      1.00      2757\n",
      "           5       1.00      0.99      0.99      2643\n",
      "           6       1.00      0.98      0.99      2667\n",
      "           7       0.92      1.00      0.96      2755\n",
      "           8       1.00      0.97      0.99      2733\n",
      "           9       1.00      0.99      1.00      2569\n",
      "          10       1.00      0.98      0.99      2660\n",
      "          11       1.00      0.99      1.00      2702\n",
      "          12       1.00      0.99      0.99      2704\n",
      "          13       0.98      1.00      0.99      2736\n",
      "          14       1.00      1.00      1.00      2619\n",
      "          15       0.92      1.00      0.96      2747\n",
      "          16       1.00      1.00      1.00      2642\n",
      "          17       1.00      1.00      1.00      2704\n",
      "          18       1.00      1.00      1.00      2745\n",
      "          19       0.98      0.97      0.98      2718\n",
      "          20       1.00      0.97      0.98      2742\n",
      "          21       0.99      0.94      0.97      2723\n",
      "          22       0.98      0.99      0.99      2709\n",
      "          23       1.00      1.00      1.00      2757\n",
      "          24       1.00      1.00      1.00      2680\n",
      "          25       1.00      1.00      1.00      2710\n",
      "          26       1.00      0.99      0.99      2707\n",
      "          27       0.96      1.00      0.98      2658\n",
      "          28       0.98      0.98      0.98      2761\n",
      "\n",
      "    accuracy                           0.98     78300\n",
      "   macro avg       0.98      0.98      0.98     78300\n",
      "weighted avg       0.98      0.98      0.98     78300\n",
      "\n",
      "[[2374  257    2    0    0    0    0    0    0    0    0    0    0    0\n",
      "     0    0    0    0    0    2    0    2    0    0    3    0    0    0\n",
      "     2]\n",
      " [   1 2671    1    0    0    0    0    1    0    0    0    0    0    1\n",
      "     0    0    0    0    0    2    0    2    1    2    0    0    0    0\n",
      "     0]\n",
      " [   0    0 2603    0    2    0    0    0    0    0    0    0    0    0\n",
      "     0    0    3    0    0    0    0    0   14    0    0    0    0    0\n",
      "     0]\n",
      " [   0    0    0 2600    0    0    0   18    0    0    0    0    0    2\n",
      "     0  186    0    0    0    0    0    0    0    0    0    0    0    0\n",
      "     0]\n",
      " [   0    0    0    0 2751    0    0    0    0    0    0    0    0    4\n",
      "     0    0    0    0    0    0    0    0    0    0    0    0    0    2\n",
      "     0]\n",
      " [   0    4    0    0    0 2626    0    7    0    0    0    0    0    2\n",
      "     0    1    0    0    0    0    0    3    0    0    0    0    0    0\n",
      "     0]\n",
      " [   0    1    0    1    0    0 2608   45    0    0    0    0    0    0\n",
      "     0    4    0    0    0    1    0    4    0    0    0    0    3    0\n",
      "     0]\n",
      " [   0    0    0    0    0    0    0 2743    3    0    0    0    0    7\n",
      "     0    1    0    0    0    0    0    0    0    0    0    0    0    1\n",
      "     0]\n",
      " [   0    0    0    0    0    0    0   41 2663    0    0    0    0    2\n",
      "     0    4    0    0    1    0    0    1   19    2    0    0    0    0\n",
      "     0]\n",
      " [   0    0    0    0    0    0    0    4    0 2554    0    0    0    0\n",
      "     0    0    0    1    1    0    0    0    6    0    1    0    1    1\n",
      "     0]\n",
      " [   0    9    0    0    0    0    0    2    0    1 2617    0    0    4\n",
      "     0    9    0    0    0    0    0    0    0    1    0    0    0    2\n",
      "    15]\n",
      " [   0    0    0    0    8    0    0    0    0    0    0 2680    0    3\n",
      "     0    0    0    0    0    0    0    0    0    2    0    0    0    9\n",
      "     0]\n",
      " [   0    0    0    0    0    7    0    7    0    0    0    1 2677    0\n",
      "     0    4    1    0    0    0    1    0    0    0    0    0    0    6\n",
      "     0]\n",
      " [   0    0    0    0    0    0    0    0    0    0    0    0    0 2736\n",
      "     0    0    0    0    0    0    0    0    0    0    0    0    0    0\n",
      "     0]\n",
      " [   0    2    0    0    0    0    0    2    0    0    0    0    0    4\n",
      "  2609    0    1    0    0    0    0    0    0    0    0    0    0    1\n",
      "     0]\n",
      " [   0    0    0    6    0    0    0    3    0    0    0    0    0    0\n",
      "     0 2738    0    0    0    0    0    0    0    0    0    0    0    0\n",
      "     0]\n",
      " [   0    0    0    0    3    0    0    2    0    0    0    0    0    0\n",
      "     0    0 2635    0    0    0    0    0    0    0    0    0    0    2\n",
      "     0]\n",
      " [   0    0    0    0    0    0    0    0    0    0    0    0    0    7\n",
      "     1    0    0 2696    0    0    0    0    0    0    0    0    0    0\n",
      "     0]\n",
      " [   0    0    2    0    0    0    0    0    0    1    0    0    0    0\n",
      "     0    0    0    1 2740    0    0    0    0    1    0    0    0    0\n",
      "     0]\n",
      " [   0   63    0    0    0    0    0    0    0    0    0    0    0    1\n",
      "     0    0    0    0    0 2631    0    1    0    0    4    0    0    0\n",
      "    18]\n",
      " [   0    0    0    0    0    0    0    1    0    0    0    0    0   12\n",
      "     0    0    0    0    0    0 2651    0    0    0    0    0    0   78\n",
      "     0]\n",
      " [   1   60    1    0    0    0    0   67    1    0    0    0    0    7\n",
      "     0   16    0    0    0   10    0 2557    1    0    0    0    0    0\n",
      "     2]\n",
      " [   0    0    0    0    0    0    0   19    0    0    0    0    0    0\n",
      "     0    0    0    0    0    0    0    0 2689    1    0    0    0    0\n",
      "     0]\n",
      " [   0    0    0    0    0    0    0    0    0    0    0    0    0    0\n",
      "     0    0    0    0    0    2    0    1    7 2747    0    0    0    0\n",
      "     0]\n",
      " [   0    0    2    0    0    0    0    0    0    0    0    0    0    0\n",
      "     0    0    0    0    0    5    0    0    0    4 2669    0    0    0\n",
      "     0]\n",
      " [   1    0    0    0    0    0    0    2    0    0    0    0    0    0\n",
      "     0    1    0    0    1    0    0    0    0    0    0 2705    0    0\n",
      "     0]\n",
      " [   0    0    0    0    0    0    0   13    0    0    0    0    0    1\n",
      "     0    0    2    0    0    0    0    1    0    0    0    0 2683    2\n",
      "     5]\n",
      " [   0    0    0    0    0    0    0    0    0    0    0    0    0    1\n",
      "     0    0    0    0    0    0    1    0    0    0    0    0    0 2656\n",
      "     0]\n",
      " [   0   13    0    0    0    4    0    0    0    0    0    0    0    0\n",
      "     0    0    0    0    1   22    0    0    0    0    2    0    0    0\n",
      "  2719]]\n"
     ]
    }
   ],
   "source": [
    "# Predict classes\n",
    "y_pred = model.predict(X_test)\n",
    "y_pred_classes = np.argmax(y_pred, axis=1)\n",
    "y_test_classes = np.argmax(y_test_encoded, axis=1)\n",
    "\n",
    "# Classification report\n",
    "print(classification_report(y_test_classes, y_pred_classes))\n",
    "\n",
    "# Confusion matrix\n",
    "conf_matrix = confusion_matrix(y_test_classes, y_pred_classes)\n",
    "print(conf_matrix)\n"
   ]
  },
  {
   "cell_type": "code",
   "execution_count": 50,
   "metadata": {},
   "outputs": [],
   "source": [
    "model.save('labeled2.h5')"
   ]
  },
  {
   "cell_type": "code",
   "execution_count": null,
   "metadata": {},
   "outputs": [
    {
     "name": "stdout",
     "output_type": "stream",
     "text": [
      "1/1 [==============================] - 0s 15ms/step\n",
      "The predicted class for the image is: C\n"
     ]
    }
   ],
   "source": [
    "import cv2\n",
    "import numpy as np\n",
    "from tensorflow.keras.preprocessing import image\n",
    "from tensorflow.keras.models import load_model\n",
    "\n",
    "img_path = '/Users/kendallgilbert/Desktop/ASL_APP/ASL_Data/asl_alphabet_test/asl_alphabet_test/C_test.jpg'\n",
    "img = cv2.imread(img_path)\n",
    "img_resized = cv2.resize(img, (32, 32))\n",
    "img_rgb = convert_bgr_to_rgb(img_resized)\n",
    "img_normalized = img_rgb.astype('float32') / 255.0\n",
    "img_batch = np.expand_dims(img_normalized, axis=0)\n",
    "y_pred = model.predict(img_batch)\n",
    "\n",
    "y_pred_class = np.argmax(y_pred, axis=1)[0]\n",
    "\n",
    "labels = [\n",
    "    'R', 'U', 'I', 'N', 'G', 'Z', 'T', 'S', 'A', 'F', 'O', 'H', \n",
    "    'del', 'nothing', 'space', 'M', 'J', 'C', 'D', 'V', 'Q', 'X', \n",
    "    'E', 'B', 'K', 'L', 'Y', 'P', 'W'\n",
    "]\n",
    "\n",
    "predicted_label = labels[y_pred_class]\n",
    "\n",
    "print(f\"The predicted class for the image is: {predicted_label}\")\n"
   ]
  }
 ],
 "metadata": {
  "kernelspec": {
   "display_name": "myenv",
   "language": "python",
   "name": "python3"
  },
  "language_info": {
   "codemirror_mode": {
    "name": "ipython",
    "version": 3
   },
   "file_extension": ".py",
   "mimetype": "text/x-python",
   "name": "python",
   "nbconvert_exporter": "python",
   "pygments_lexer": "ipython3",
   "version": "3.9.18"
  }
 },
 "nbformat": 4,
 "nbformat_minor": 2
}
