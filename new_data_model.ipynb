{
 "cells": [
  {
   "cell_type": "code",
   "execution_count": 1,
   "metadata": {},
   "outputs": [],
   "source": [
    "import tensorflow as tf\n",
    "import keras\n",
    "from tensorflow import keras\n",
    "import kagglehub\n",
    "\n",
    "\n",
    "from tensorflow.keras import utils\n",
    "from tensorflow.keras.layers import Dense, Dropout, Flatten, Conv2D, MaxPooling2D, BatchNormalization\n",
    "from tensorflow.keras.models import Sequential\n",
    "\n",
    "import os\n",
    "import cv2\n",
    "import numpy as np\n",
    "from imgaug import augmenters as iaa\n",
    "\n",
    "from keras.utils import to_categorical\n",
    "from tensorflow.keras.utils import to_categorical\n",
    "from tensorflow.keras.callbacks import EarlyStopping\n",
    "import matplotlib.pyplot as plt\n",
    "\n",
    "from sklearn.metrics import classification_report, confusion_matrix\n",
    "from sklearn import metrics"
   ]
  },
  {
   "cell_type": "code",
   "execution_count": 2,
   "metadata": {},
   "outputs": [
    {
     "name": "stdout",
     "output_type": "stream",
     "text": [
      "Downloading from https://www.kaggle.com/api/v1/datasets/download/lexset/synthetic-asl-alphabet?dataset_version_number=3...\n"
     ]
    },
    {
     "name": "stderr",
     "output_type": "stream",
     "text": [
      "100%|██████████| 6.58G/6.58G [03:32<00:00, 33.3MB/s]"
     ]
    },
    {
     "name": "stdout",
     "output_type": "stream",
     "text": [
      "Extracting files...\n"
     ]
    },
    {
     "name": "stderr",
     "output_type": "stream",
     "text": [
      "\n"
     ]
    },
    {
     "name": "stdout",
     "output_type": "stream",
     "text": [
      "Obtaining and augmenting images of R ...\n",
      "Obtaining and augmenting images of U ...\n",
      "Obtaining and augmenting images of I ...\n",
      "Obtaining and augmenting images of N ...\n",
      "Obtaining and augmenting images of G ...\n",
      "Obtaining and augmenting images of Z ...\n",
      "Obtaining and augmenting images of T ...\n",
      "Obtaining and augmenting images of S ...\n",
      "Obtaining and augmenting images of A ...\n",
      "Obtaining and augmenting images of F ...\n",
      "Obtaining and augmenting images of O ...\n",
      "Obtaining and augmenting images of H ...\n",
      "Obtaining and augmenting images of Blank ...\n",
      "Obtaining and augmenting images of M ...\n",
      "Obtaining and augmenting images of J ...\n",
      "Obtaining and augmenting images of C ...\n",
      "Obtaining and augmenting images of D ...\n",
      "Obtaining and augmenting images of V ...\n",
      "Obtaining and augmenting images of Q ...\n",
      "Obtaining and augmenting images of X ...\n",
      "Obtaining and augmenting images of E ...\n",
      "Obtaining and augmenting images of B ...\n",
      "Obtaining and augmenting images of K ...\n",
      "Obtaining and augmenting images of L ...\n",
      "Obtaining and augmenting images of Y ...\n",
      "Obtaining and augmenting images of P ...\n",
      "Obtaining and augmenting images of W ...\n",
      "Dataset Size (including originals and augmentations): 72900\n"
     ]
    }
   ],
   "source": [
    "path = kagglehub.dataset_download(\"lexset/synthetic-asl-alphabet\")\n",
    "train_images = os.path.join(path, 'Train_Alphabet')\n",
    "\n",
    "# Augmentation Sequence\n",
    "augmentation = iaa.Sequential([\n",
    "    iaa.Affine(rotate=(-10, 10)),  # Rotate images within [-10, 10] degrees\n",
    "    iaa.AddToBrightness((-2, 2)),  # Adjust brightness\n",
    "    iaa.AdditiveGaussianNoise(scale=(0, 0.00001 * 255)) # Add Gaussian noise\n",
    "])\n",
    "# Function to convert BGR to RGB for display\n",
    "def convert_bgr_to_rgb(image):\n",
    "    return cv2.cvtColor(image, cv2.COLOR_BGR2RGB)\n",
    "\n",
    "# Data loading and augmentation\n",
    "def get_data_with_augmentation(data_dir):\n",
    "    images = []\n",
    "    labels = []\n",
    "\n",
    "    dir_list = os.listdir(data_dir)\n",
    "    for i, label in enumerate(dir_list):\n",
    "        print(\"Obtaining and augmenting images of\", label, \"...\")\n",
    "        for image in os.listdir(os.path.join(data_dir, label)):\n",
    "            img_path = os.path.join(data_dir, label, image)\n",
    "            img = cv2.imread(img_path)\n",
    "            img = cv2.resize(img, (32, 32))\n",
    "            \n",
    "            # Append the original image\n",
    "            images.append(img)\n",
    "            labels.append(i)\n",
    "\n",
    "            # Apply augmentations\n",
    "            img_augmented = augmentation(images=[img] * 2)  \n",
    "            images.extend(img_augmented)\n",
    "            labels.extend([i] * len(img_augmented))\n",
    "\n",
    "    return np.array(images), np.array(labels)\n",
    "\n",
    "# Loading data with augmentation\n",
    "X, y = get_data_with_augmentation(train_images)\n",
    "\n",
    "print(\"Dataset Size (including originals and augmentations):\", len(X))\n"
   ]
  },
  {
   "cell_type": "code",
   "execution_count": 3,
   "metadata": {},
   "outputs": [
    {
     "name": "stdout",
     "output_type": "stream",
     "text": [
      "Training data shape: (58320, 32, 32, 3), Test data shape: (14580, 32, 32, 3)\n",
      "Training labels shape: (58320,), Test labels shape: (14580,)\n"
     ]
    }
   ],
   "source": [
    "# Split into Training and Test\n",
    "import sklearn\n",
    "from sklearn.model_selection import train_test_split\n",
    "\n",
    "labels = [\n",
    "    'R', 'U', 'I', 'N', 'G', 'Z', 'T', 'S', 'A', 'F', 'O', 'H', \n",
    "    'Blank', 'M', 'J', 'C', 'D', 'V', 'Q', 'X', 'E', 'B', 'K', 'L', \n",
    "    'Y', 'P', 'W'\n",
    "]\n",
    "\n",
    "X = np.array(X)\n",
    "y = np.array(y)\n",
    "\n",
    "# Normalizing\n",
    "X_normalized = X.astype('float32') / 255.0\n",
    "\n",
    "# Training and Test\n",
    "X_train, X_test, y_train, y_test = train_test_split(X_normalized, y, test_size=0.2, random_state=42)\n",
    "\n",
    "# Shapes\n",
    "print(f\"Training data shape: {X_train.shape}, Test data shape: {X_test.shape}\")\n",
    "print(f\"Training labels shape: {y_train.shape}, Test labels shape: {y_test.shape}\")\n",
    "\n",
    "\n",
    "# Encoding\n",
    "y_train_encoded = to_categorical(y_train, num_classes=len(labels))\n",
    "y_test_encoded = to_categorical(y_test, num_classes=len(labels))\n"
   ]
  },
  {
   "cell_type": "code",
   "execution_count": 4,
   "metadata": {},
   "outputs": [],
   "source": [
    "from tensorflow.keras.models import Sequential\n",
    "from tensorflow.keras.optimizers import Adam"
   ]
  },
  {
   "cell_type": "code",
   "execution_count": null,
   "metadata": {},
   "outputs": [
    {
     "name": "stderr",
     "output_type": "stream",
     "text": [
      "/opt/anaconda3/lib/python3.11/site-packages/keras/src/layers/convolutional/base_conv.py:107: UserWarning: Do not pass an `input_shape`/`input_dim` argument to a layer. When using Sequential models, prefer using an `Input(shape)` object as the first layer in the model instead.\n",
      "  super().__init__(activity_regularizer=activity_regularizer, **kwargs)\n"
     ]
    },
    {
     "name": "stdout",
     "output_type": "stream",
     "text": [
      "Epoch 1/8\n",
      "\u001b[1m486/486\u001b[0m \u001b[32m━━━━━━━━━━━━━━━━━━━━\u001b[0m\u001b[37m\u001b[0m \u001b[1m19s\u001b[0m 38ms/step - accuracy: 0.4291 - loss: 7.6209 - val_accuracy: 0.2862 - val_loss: 3.2306\n",
      "Epoch 2/8\n",
      "\u001b[1m486/486\u001b[0m \u001b[32m━━━━━━━━━━━━━━━━━━━━\u001b[0m\u001b[37m\u001b[0m \u001b[1m18s\u001b[0m 36ms/step - accuracy: 0.8580 - loss: 1.0222 - val_accuracy: 0.9096 - val_loss: 0.8045\n",
      "Epoch 3/8\n",
      "\u001b[1m486/486\u001b[0m \u001b[32m━━━━━━━━━━━━━━━━━━━━\u001b[0m\u001b[37m\u001b[0m \u001b[1m18s\u001b[0m 36ms/step - accuracy: 0.8998 - loss: 0.8185 - val_accuracy: 0.9257 - val_loss: 0.7302\n",
      "Epoch 4/8\n",
      "\u001b[1m486/486\u001b[0m \u001b[32m━━━━━━━━━━━━━━━━━━━━\u001b[0m\u001b[37m\u001b[0m \u001b[1m18s\u001b[0m 37ms/step - accuracy: 0.9161 - loss: 0.7365 - val_accuracy: 0.9306 - val_loss: 0.7423\n",
      "Epoch 5/8\n",
      "\u001b[1m486/486\u001b[0m \u001b[32m━━━━━━━━━━━━━━━━━━━━\u001b[0m\u001b[37m\u001b[0m \u001b[1m18s\u001b[0m 36ms/step - accuracy: 0.9259 - loss: 0.7031 - val_accuracy: 0.9219 - val_loss: 0.7157\n",
      "Epoch 6/8\n",
      "\u001b[1m486/486\u001b[0m \u001b[32m━━━━━━━━━━━━━━━━━━━━\u001b[0m\u001b[37m\u001b[0m \u001b[1m18s\u001b[0m 37ms/step - accuracy: 0.9335 - loss: 0.6401 - val_accuracy: 0.9408 - val_loss: 0.6492\n",
      "Epoch 7/8\n",
      "\u001b[1m486/486\u001b[0m \u001b[32m━━━━━━━━━━━━━━━━━━━━\u001b[0m\u001b[37m\u001b[0m \u001b[1m18s\u001b[0m 38ms/step - accuracy: 0.9429 - loss: 0.5986 - val_accuracy: 0.9518 - val_loss: 0.5641\n",
      "Epoch 8/8\n",
      "\u001b[1m486/486\u001b[0m \u001b[32m━━━━━━━━━━━━━━━━━━━━\u001b[0m\u001b[37m\u001b[0m \u001b[1m17s\u001b[0m 36ms/step - accuracy: 0.9459 - loss: 0.5707 - val_accuracy: 0.9619 - val_loss: 0.5146\n"
     ]
    }
   ],
   "source": [
    "classes = 27\n",
    "batch = 96\n",
    "epochs = 8\n",
    "learning_rate = 0.001\n",
    "\n",
    "model = Sequential()\n",
    "\n",
    "model.add(Conv2D(32, (3, 3), padding='same', input_shape=(32, 32, 3), activation='relu'))\n",
    "model.add(MaxPooling2D(pool_size=(2, 2)))\n",
    "model.add(BatchNormalization())\n",
    "\n",
    "model.add(Conv2D(64, (3, 3), padding='same', input_shape=(32, 32, 3), activation='relu'))\n",
    "model.add(MaxPooling2D(pool_size=(2, 2)))\n",
    "model.add(BatchNormalization())\n",
    "model.add(Dropout(0.3))\n",
    "\n",
    "model.add(Conv2D(128, (3, 3), padding='same', input_shape=(32, 32, 3), activation='relu'))\n",
    "model.add(MaxPooling2D(pool_size=(2, 2)))\n",
    "model.add(BatchNormalization())\n",
    "\n",
    "from tensorflow.keras.regularizers import l2\n",
    "\n",
    "model.add(Flatten())\n",
    "model.add(Dropout(0.2))\n",
    "model.add(Dense(1024, activation='relu',kernel_regularizer=l2(0.01)))\n",
    "model.add(Dense(classes, activation='softmax'))\n",
    "\n",
    "adam = Adam(learning_rate)\n",
    "model.compile(optimizer=adam, loss='categorical_crossentropy', metrics=['accuracy'])\n",
    "\n",
    "early_stopping = EarlyStopping(\n",
    "    monitor='val_loss',      \n",
    "    patience=2,              \n",
    "    restore_best_weights=True \n",
    ")\n",
    "\n",
    "history = model.fit(X_train, y_train_encoded, batch_size=batch, epochs=epochs, validation_split=0.2, shuffle = True, verbose=1,\n",
    "    callbacks=[early_stopping])"
   ]
  },
  {
   "cell_type": "code",
   "execution_count": 6,
   "metadata": {},
   "outputs": [
    {
     "name": "stdout",
     "output_type": "stream",
     "text": [
      "\u001b[1m456/456\u001b[0m \u001b[32m━━━━━━━━━━━━━━━━━━━━\u001b[0m\u001b[37m\u001b[0m \u001b[1m2s\u001b[0m 5ms/step - accuracy: 0.9607 - loss: 0.5141\n",
      "Test Loss: 0.5126, Test Accuracy: 0.9617\n"
     ]
    }
   ],
   "source": [
    "test_loss, test_accuracy = model.evaluate(X_test, y_test_encoded, verbose=1)\n",
    "print(f\"Test Loss: {test_loss:.4f}, Test Accuracy: {test_accuracy:.4f}\")\n"
   ]
  },
  {
   "cell_type": "code",
   "execution_count": 7,
   "metadata": {},
   "outputs": [
    {
     "data": {
      "image/png": "[encoded data removed]",
      "text/plain": [
       "<Figure size 640x480 with 1 Axes>"
      ]
     },
     "metadata": {},
     "output_type": "display_data"
    },
    {
     "data": {
      "image/png": "[encoded data removed]",
      "text/plain": [
       "<Figure size 640x480 with 1 Axes>"
      ]
     },
     "metadata": {},
     "output_type": "display_data"
    }
   ],
   "source": [
    "# Training and validation accuracy\n",
    "plt.plot(history.history['accuracy'], label='Train Accuracy', color='#ADD8E6')  # Training color\n",
    "plt.plot(history.history['val_accuracy'], label='Validation Accuracy', color='#041E42')  # Validation color\n",
    "plt.legend()\n",
    "plt.title('Training vs Validation Accuracy')\n",
    "plt.show()\n",
    "\n",
    "# Training and validation loss\n",
    "plt.plot(history.history['loss'], label='Train Loss', color='#ADD8E6')  # Training color\n",
    "plt.plot(history.history['val_loss'], label='Validation Loss', color='#041E42')  # Validation color\n",
    "plt.legend()\n",
    "plt.title('Training vs Validation Loss')\n",
    "plt.show()\n"
   ]
  },
  {
   "cell_type": "code",
   "execution_count": 8,
   "metadata": {},
   "outputs": [
    {
     "name": "stderr",
     "output_type": "stream",
     "text": [
      "WARNING:absl:You are saving your model as an HDF5 file via `model.save()` or `keras.saving.save_model(model)`. This file format is considered legacy. We recommend using instead the native Keras format, e.g. `model.save('my_model.keras')` or `keras.saving.save_model(model, 'my_model.keras')`. \n"
     ]
    }
   ],
   "source": [
    "model.save('labeled.h5')"
   ]
  },
  {
   "cell_type": "code",
   "execution_count": 9,
   "metadata": {},
   "outputs": [
    {
     "name": "stdout",
     "output_type": "stream",
     "text": [
      "\u001b[1m1/1\u001b[0m \u001b[32m━━━━━━━━━━━━━━━━━━━━\u001b[0m\u001b[37m\u001b[0m \u001b[1m0s\u001b[0m 47ms/step\n",
      "The predicted class for the image is: P\n"
     ]
    }
   ],
   "source": [
    "import cv2\n",
    "import numpy as np\n",
    "from tensorflow.keras.preprocessing import image\n",
    "from tensorflow.keras.models import load_model\n",
    "\n",
    "img_path = '/Users/hannahkim/Downloads/archive-2/asl_alphabet_test/asl_alphabet_test/B_test.jpg'\n",
    "img = cv2.imread(img_path)\n",
    "\n",
    "img_resized = cv2.resize(img, (32, 32))\n",
    "\n",
    "img_rgb = convert_bgr_to_rgb(img_resized)\n",
    "\n",
    "img_normalized = img_rgb.astype('float32') / 255.0\n",
    "\n",
    "img_batch = np.expand_dims(img_normalized, axis=0)\n",
    "\n",
    "y_pred = model.predict(img_batch)\n",
    "\n",
    "y_pred_class = np.argmax(y_pred, axis=1)[0]\n",
    "\n",
    "labels = [\n",
    "    'R', 'U', 'I', 'N', 'G', 'Z', 'T', 'S', 'A', 'F', 'O', 'H', \n",
    "    'Blank', 'M', 'J', 'C', 'D', 'V', 'Q', 'X', 'E', 'B', 'K', 'L', \n",
    "    'Y', 'P', 'W'\n",
    "]\n",
    "\n",
    "predicted_label = labels[y_pred_class]\n",
    "\n",
    "print(f\"The predicted class for the image is: {predicted_label}\")\n"
   ]
  },
  {
   "cell_type": "code",
   "execution_count": null,
   "metadata": {},
   "outputs": [],
   "source": []
  }
 ],
 "metadata": {
  "kernelspec": {
   "display_name": "base",
   "language": "python",
   "name": "python3"
  },
  "language_info": {
   "codemirror_mode": {
    "name": "ipython",
    "version": 3
   },
   "file_extension": ".py",
   "mimetype": "text/x-python",
   "name": "python",
   "nbconvert_exporter": "python",
   "pygments_lexer": "ipython3",
   "version": "3.11.7"
  }
 },
 "nbformat": 4,
 "nbformat_minor": 2
}
